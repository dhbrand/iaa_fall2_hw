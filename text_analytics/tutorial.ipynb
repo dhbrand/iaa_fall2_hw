{
 "cells": [
  {
   "cell_type": "code",
   "execution_count": 2,
   "metadata": {},
   "outputs": [],
   "source": [
    "import gensim\n",
    "import nltk\n",
    "import re\n",
    "import string"
   ]
  },
  {
   "cell_type": "code",
   "execution_count": 5,
   "metadata": {},
   "outputs": [
    {
     "name": "stdout",
     "output_type": "stream",
     "text": [
      "[nltk_data] Downloading package punkt to\n",
      "[nltk_data]     /Users/davehiltbrand/nltk_data...\n",
      "[nltk_data]   Unzipping tokenizers/punkt.zip.\n"
     ]
    },
    {
     "data": {
      "text/plain": [
       "True"
      ]
     },
     "execution_count": 5,
     "metadata": {},
     "output_type": "execute_result"
    }
   ],
   "source": [
    "nltk.download('punkt')"
   ]
  },
  {
   "cell_type": "code",
   "execution_count": 10,
   "metadata": {},
   "outputs": [
    {
     "name": "stdout",
     "output_type": "stream",
     "text": [
      "[nltk_data] Downloading package stopwords to\n",
      "[nltk_data]     /Users/davehiltbrand/nltk_data...\n",
      "[nltk_data]   Unzipping corpora/stopwords.zip.\n"
     ]
    },
    {
     "data": {
      "text/plain": [
       "True"
      ]
     },
     "execution_count": 10,
     "metadata": {},
     "output_type": "execute_result"
    }
   ],
   "source": [
    "nltk.download('stopwords')"
   ]
  },
  {
   "cell_type": "markdown",
   "metadata": {},
   "source": [
    "Create initial documents list"
   ]
  },
  {
   "cell_type": "code",
   "execution_count": 3,
   "metadata": {},
   "outputs": [],
   "source": [
    "doc = [ ]\n",
    "doc.append( 'It is a far, far better thing I do, than I have every done' )\n",
    "doc.append( 'Call me Ishmael' )\n",
    "doc.append( 'Is this a dagger I see before me?' )\n",
    "doc.append( 'O happy dagger' )"
   ]
  },
  {
   "cell_type": "markdown",
   "metadata": {},
   "source": [
    "Remove punctuation, then tokenize documents"
   ]
  },
  {
   "cell_type": "code",
   "execution_count": 6,
   "metadata": {},
   "outputs": [],
   "source": [
    "punc = re.compile( '[%s]' % re.escape( string.punctuation ) )\n",
    "term_vec = [ ]\n",
    "\n",
    "for d in doc:\n",
    "    d = d.lower()\n",
    "    d = punc.sub( '', d )\n",
    "    term_vec.append( nltk.word_tokenize( d ) )"
   ]
  },
  {
   "cell_type": "markdown",
   "metadata": {},
   "source": [
    "Print resulting term vectors"
   ]
  },
  {
   "cell_type": "code",
   "execution_count": 8,
   "metadata": {},
   "outputs": [
    {
     "name": "stdout",
     "output_type": "stream",
     "text": [
      "['it', 'is', 'a', 'far', 'far', 'better', 'thing', 'i', 'do', 'than', 'i', 'have', 'every', 'done']\n",
      "['call', 'me', 'ishmael']\n",
      "['is', 'this', 'a', 'dagger', 'i', 'see', 'before', 'me']\n",
      "['o', 'happy', 'dagger']\n"
     ]
    }
   ],
   "source": [
    "for vec in term_vec:\n",
    "    print(vec)"
   ]
  },
  {
   "cell_type": "markdown",
   "metadata": {},
   "source": [
    "Remove stop words from term vectors"
   ]
  },
  {
   "cell_type": "code",
   "execution_count": 11,
   "metadata": {},
   "outputs": [],
   "source": [
    "stop_words = nltk.corpus.stopwords.words( 'english' )\n",
    "\n",
    "for i in range( 0, len( term_vec ) ):\n",
    "    term_list = [ ]\n",
    "\n",
    "    for term in term_vec[ i ]:\n",
    "        if term not in stop_words:\n",
    "            term_list.append( term )\n",
    "\n",
    "    term_vec[ i ] = term_list"
   ]
  },
  {
   "cell_type": "markdown",
   "metadata": {},
   "source": [
    "Print term vectors with stop words removed"
   ]
  },
  {
   "cell_type": "code",
   "execution_count": 13,
   "metadata": {},
   "outputs": [
    {
     "name": "stdout",
     "output_type": "stream",
     "text": [
      "['far', 'far', 'better', 'thing', 'every', 'done']\n",
      "['call', 'ishmael']\n",
      "['dagger', 'see']\n",
      "['happy', 'dagger']\n"
     ]
    }
   ],
   "source": [
    "for vec in term_vec:\n",
    "    print(vec)"
   ]
  },
  {
   "cell_type": "markdown",
   "metadata": {},
   "source": [
    "Porter stem remaining terms"
   ]
  },
  {
   "cell_type": "code",
   "execution_count": 15,
   "metadata": {},
   "outputs": [],
   "source": [
    "porter = nltk.stem.porter.PorterStemmer()\n",
    "\n",
    "for i in range( 0, len( term_vec ) ):\n",
    "    for j in range( 0, len( term_vec[ i ] ) ):\n",
    "        term_vec[ i ][ j ] = porter.stem( term_vec[ i ][ j ] )"
   ]
  },
  {
   "cell_type": "markdown",
   "metadata": {},
   "source": [
    "Print term vectors with stop words removed"
   ]
  },
  {
   "cell_type": "code",
   "execution_count": 17,
   "metadata": {},
   "outputs": [
    {
     "name": "stdout",
     "output_type": "stream",
     "text": [
      "['far', 'far', 'better', 'thing', 'everi', 'done']\n",
      "['call', 'ishmael']\n",
      "['dagger', 'see']\n",
      "['happi', 'dagger']\n"
     ]
    }
   ],
   "source": [
    "for vec in term_vec:\n",
    "    print(vec)"
   ]
  },
  {
   "cell_type": "markdown",
   "metadata": {},
   "source": [
    "misc notes"
   ]
  },
  {
   "cell_type": "code",
   "execution_count": 18,
   "metadata": {},
   "outputs": [],
   "source": [
    "from math import *"
   ]
  },
  {
   "cell_type": "code",
   "execution_count": 20,
   "metadata": {},
   "outputs": [
    {
     "data": {
      "text/plain": [
       "-1.0986122886681098"
      ]
     },
     "execution_count": 20,
     "metadata": {},
     "output_type": "execute_result"
    }
   ],
   "source": [
    "log(4/12)"
   ]
  },
  {
   "cell_type": "code",
   "execution_count": 21,
   "metadata": {},
   "outputs": [
    {
     "data": {
      "text/plain": [
       "0.7194244604316548"
      ]
     },
     "execution_count": 21,
     "metadata": {},
     "output_type": "execute_result"
    }
   ],
   "source": [
    "1/1.39"
   ]
  },
  {
   "cell_type": "markdown",
   "metadata": {},
   "source": [
    "Convert term vectors into gensim dictionary"
   ]
  },
  {
   "cell_type": "code",
   "execution_count": 22,
   "metadata": {},
   "outputs": [],
   "source": [
    "dict = gensim.corpora.Dictionary( term_vec )\n",
    "\n",
    "corp = [ ]\n",
    "for i in range( 0, len( term_vec ) ):\n",
    "    corp.append( dict.doc2bow( term_vec[ i ] ) )"
   ]
  },
  {
   "cell_type": "markdown",
   "metadata": {},
   "source": [
    "Create TFIDF vectors based on term vectors bag-of-word corpora"
   ]
  },
  {
   "cell_type": "code",
   "execution_count": 23,
   "metadata": {},
   "outputs": [],
   "source": [
    "tfidf_model = gensim.models.TfidfModel( corp )\n",
    "\n",
    "tfidf = [ ]\n",
    "for i in range( 0, len( corp ) ):\n",
    "    tfidf.append( tfidf_model[ corp[ i ] ] )"
   ]
  },
  {
   "cell_type": "markdown",
   "metadata": {},
   "source": [
    "Create pairwise document similarity index"
   ]
  },
  {
   "cell_type": "code",
   "execution_count": 24,
   "metadata": {},
   "outputs": [],
   "source": [
    "n = len( dict )\n",
    "index = gensim.similarities.SparseMatrixSimilarity( tfidf_model[ corp ], num_features = n )"
   ]
  },
  {
   "cell_type": "markdown",
   "metadata": {},
   "source": [
    "Print TFIDF vectors and pairwise similarity per document"
   ]
  },
  {
   "cell_type": "code",
   "execution_count": 29,
   "metadata": {},
   "outputs": [
    {
     "name": "stdout",
     "output_type": "stream",
     "text": [
      "Doc 1 TFIDF: (better,0.354) (done,0.354) (everi,0.354) (far,0.707) (thing,0.354)\n",
      "Doc 2 TFIDF: (call,0.707) (ishmael,0.707)\n",
      "Doc 3 TFIDF: (dagger,0.447) (see,0.894)\n",
      "Doc 4 TFIDF: (dagger,0.447) (happi,0.894)\n",
      "Doc 1 sim: [ \n",
      "1.000 \n",
      "0.000 \n",
      "0.000 \n",
      "0.000 \n",
      "]\n",
      "Doc 2 sim: [ \n",
      "0.000 \n",
      "1.000 \n",
      "0.000 \n",
      "0.000 \n",
      "]\n",
      "Doc 3 sim: [ \n",
      "0.000 \n",
      "0.000 \n",
      "1.000 \n",
      "0.200 \n",
      "]\n",
      "Doc 4 sim: [ \n",
      "0.000 \n",
      "0.000 \n",
      "0.200 \n",
      "1.000 \n",
      "]\n"
     ]
    }
   ],
   "source": [
    "for i in range( 0, len( tfidf ) ):\n",
    "    s = 'Doc ' + str( i + 1 ) + ' TFIDF:'\n",
    "\n",
    "    for j in range( 0, len( tfidf[ i ] ) ):\n",
    "        s = s + ' (' + dict.get( tfidf[ i ][ j ][ 0 ] ) + ','\n",
    "        s = s + ( '%.3f' % tfidf[ i ][ j ][ 1 ] ) + ')'\n",
    "\n",
    "    print(s)\n",
    "\n",
    "for i in range( 0, len( corp ) ):\n",
    "    print('Doc', ( i + 1 ), 'sim: [ ',)\n",
    "\n",
    "    sim = index[ tfidf_model[ corp[ i ] ] ]\n",
    "    for j in range( 0, len( sim ) ):\n",
    "        print('%.3f ' % sim[ j ],)\n",
    "\n",
    "    print(']')"
   ]
  },
  {
   "cell_type": "code",
   "execution_count": null,
   "metadata": {},
   "outputs": [],
   "source": []
  }
 ],
 "metadata": {
  "kernelspec": {
   "display_name": "Python 3",
   "language": "python",
   "name": "python3"
  },
  "language_info": {
   "codemirror_mode": {
    "name": "ipython",
    "version": 3
   },
   "file_extension": ".py",
   "mimetype": "text/x-python",
   "name": "python",
   "nbconvert_exporter": "python",
   "pygments_lexer": "ipython3",
   "version": "3.5.5"
  }
 },
 "nbformat": 4,
 "nbformat_minor": 2
}
