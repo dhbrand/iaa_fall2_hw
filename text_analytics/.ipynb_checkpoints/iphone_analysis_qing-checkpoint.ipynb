{
 "cells": [
  {
   "cell_type": "code",
   "execution_count": 25,
   "metadata": {},
   "outputs": [],
   "source": [
    "import pandas as pd\n",
    "import gensim\n",
    "import nltk\n",
    "import re\n",
    "import string\n",
    "from sentiment_module import sentiment\n",
    "import statistics as stat\n",
    "import pyLDAvis.gensim\n",
    "import matplotlib.pyplot as plt"
   ]
  },
  {
   "cell_type": "markdown",
   "metadata": {},
   "source": [
    "Looking at the first 10,000 obs"
   ]
  },
  {
   "cell_type": "code",
   "execution_count": 26,
   "metadata": {},
   "outputs": [],
   "source": [
    "twt_5k = pd.read_csv(\"../data/dave_1_5000_tweet_1.csv\")\n",
    "twt_10k = pd.read_csv(\"../data/dave_5001_10000_tweet_1.csv\")"
   ]
  },
  {
   "cell_type": "code",
   "execution_count": 27,
   "metadata": {},
   "outputs": [],
   "source": [
    "qing = pd.read_csv(\"../data/Qing_10000_tweet.csv\")\n",
    "ryan = pd.read_csv(\"../data/ryan_1_10000_tweet.csv\")"
   ]
  },
  {
   "cell_type": "markdown",
   "metadata": {},
   "source": [
    "Combining into one dataframe"
   ]
  },
  {
   "cell_type": "code",
   "execution_count": 28,
   "metadata": {},
   "outputs": [
    {
     "data": {
      "text/plain": [
       "30020"
      ]
     },
     "execution_count": 28,
     "metadata": {},
     "output_type": "execute_result"
    }
   ],
   "source": [
    "twt = pd.concat([twt_5k, twt_10k, qing, ryan])\n",
    "len(twt)"
   ]
  },
  {
   "cell_type": "markdown",
   "metadata": {},
   "source": [
    "Filtering retweets from dataset"
   ]
  },
  {
   "cell_type": "code",
   "execution_count": 29,
   "metadata": {},
   "outputs": [
    {
     "name": "stdout",
     "output_type": "stream",
     "text": [
      "6                                           Iphone XS 😩\n",
      "9     SMART GADGETS ELECTRONICS PVT LTD  #USDCASH SA...\n",
      "10    @s_sprimuss I've used the Iphone Xs for two we...\n",
      "15    Apple iPhone XS and XS MAX Review https://t.co...\n",
      "17    eBay: Apple iPhone XS Max - 512GB - Space Grey...\n",
      "18    Google Pixel 3 and Pixel 3 XL are here to take...\n",
      "19    IPhone X;Iphone XS; IPhone XR; IPhone 6s; IPho...\n",
      "24    iDrop News is giving away a free iPhone XS Max...\n",
      "28    The iPhone XR Is Depressing... https://t.co/gk...\n",
      "29    The iPhone XR Is Depressing... https://t.co/gk...\n",
      "Name: body, dtype: object\n"
     ]
    }
   ],
   "source": [
    "og_twt = twt['retweet']==0   #retweet is a column name\n",
    "twt_no_rt = twt[og_twt]\n",
    "print(twt_no_rt['body'].head(n=10))  #body is a column name"
   ]
  },
  {
   "cell_type": "code",
   "execution_count": 30,
   "metadata": {},
   "outputs": [
    {
     "name": "stdout",
     "output_type": "stream",
     "text": [
      "7791\n"
     ]
    }
   ],
   "source": [
    "tweets = twt_no_rt['body'].tolist() #.tolist() Return the array as a (possibly nested) list.\n",
    "print(len(tweets))"
   ]
  },
  {
   "cell_type": "code",
   "execution_count": 31,
   "metadata": {},
   "outputs": [],
   "source": [
    "tweets_df = pd.DataFrame({'tweets':tweets})\n",
    "tweets_df.to_csv(\"../data/clean_tweets.csv\")"
   ]
  },
  {
   "cell_type": "markdown",
   "metadata": {},
   "source": [
    "Remove punctuation, then tokenize documents"
   ]
  },
  {
   "cell_type": "code",
   "execution_count": 36,
   "metadata": {},
   "outputs": [
    {
     "name": "stdout",
     "output_type": "stream",
     "text": [
      "7791\n"
     ]
    }
   ],
   "source": [
    "punc = re.compile( '[%s]' % re.escape( string.punctuation ) )\n",
    "term_vec = [ ]\n",
    "\n",
    "for t in tweets:\n",
    "    t = t.lower()\n",
    "    t = punc.sub( '', t )\n",
    "    term_vec.append( nltk.word_tokenize( t ) )\n",
    "\n",
    "print(len(term_vec))"
   ]
  },
  {
   "cell_type": "markdown",
   "metadata": {},
   "source": [
    "Removing tweets with promotional words  "
   ]
  },
  {
   "cell_type": "code",
   "execution_count": 51,
   "metadata": {},
   "outputs": [],
   "source": [
    "promo = pd.read_csv(\"promo_words.csv\", header=None)\n",
    "promo = list(promo.iloc[0])\n",
    "promo = [i.strip() for i in promo]"
   ]
  },
  {
   "cell_type": "code",
   "execution_count": 52,
   "metadata": {},
   "outputs": [
    {
     "name": "stdout",
     "output_type": "stream",
     "text": [
      "6524\n"
     ]
    }
   ],
   "source": [
    "for idx, t in enumerate(term_vec):\n",
    "    if any([elem in promo for elem in t]):\n",
    "        del term_vec[idx]\n",
    "        \n",
    "print(len(term_vec))"
   ]
  },
  {
   "cell_type": "markdown",
   "metadata": {},
   "source": [
    "Print resulting term vectors"
   ]
  },
  {
   "cell_type": "raw",
   "metadata": {},
   "source": [
    "for vec in term_vec:\n",
    "    print(vec)"
   ]
  },
  {
   "cell_type": "markdown",
   "metadata": {},
   "source": [
    "Remove stop words from term vectors"
   ]
  },
  {
   "cell_type": "code",
   "execution_count": 53,
   "metadata": {},
   "outputs": [],
   "source": [
    "stop_words = nltk.corpus.stopwords.words( 'english' )\n",
    "iphone_words = ['iphone', 'max', 'xs', 'xr', 'iphonexs', 'iphonexr', \"’\"]\n",
    "for i in iphone_words:\n",
    "    stop_words.append(i)\n",
    "\n",
    "for i in range( 0, len( term_vec ) ):\n",
    "    term_list = [ ]\n",
    "\n",
    "    for term in term_vec[ i ]:\n",
    "        if term not in stop_words:\n",
    "            term_list.append( term )\n",
    "\n",
    "    term_vec[ i ] = term_list"
   ]
  },
  {
   "cell_type": "markdown",
   "metadata": {},
   "source": [
    "Print term vectors with stop words removed"
   ]
  },
  {
   "cell_type": "raw",
   "metadata": {},
   "source": [
    "for vec in term_vec[100:1100]:\n",
    "    print(vec)"
   ]
  },
  {
   "cell_type": "code",
   "execution_count": 55,
   "metadata": {},
   "outputs": [
    {
     "data": {
      "text/plain": [
       "6524"
      ]
     },
     "execution_count": 55,
     "metadata": {},
     "output_type": "execute_result"
    }
   ],
   "source": [
    "len(term_vec)"
   ]
  },
  {
   "cell_type": "markdown",
   "metadata": {},
   "source": [
    "Porter stem remaining terms"
   ]
  },
  {
   "cell_type": "code",
   "execution_count": 56,
   "metadata": {},
   "outputs": [],
   "source": [
    "porter = nltk.stem.porter.PorterStemmer()\n",
    "\n",
    "for i in range( 0, len( term_vec ) ):\n",
    "    for j in range( 0, len( term_vec[ i ] ) ):\n",
    "        term_vec[ i ][ j ] = porter.stem( term_vec[ i ][ j ] )"
   ]
  },
  {
   "cell_type": "markdown",
   "metadata": {},
   "source": [
    "Print term vectors with stop words removed"
   ]
  },
  {
   "cell_type": "raw",
   "metadata": {},
   "source": [
    "for vec in term_vec[500:510]:\n",
    "    print(vec)"
   ]
  },
  {
   "cell_type": "markdown",
   "metadata": {},
   "source": [
    "Convert term vectors into gensim dictionary"
   ]
  },
  {
   "cell_type": "code",
   "execution_count": 57,
   "metadata": {},
   "outputs": [],
   "source": [
    "dict = gensim.corpora.Dictionary( term_vec )\n",
    "\n",
    "corp = [ ]\n",
    "for i in range( 0, len( term_vec ) ):\n",
    "    corp.append( dict.doc2bow( term_vec[ i ] ) )"
   ]
  },
  {
   "cell_type": "markdown",
   "metadata": {},
   "source": [
    "Create TFIDF vectors based on term vectors bag-of-word corpora"
   ]
  },
  {
   "cell_type": "code",
   "execution_count": 58,
   "metadata": {},
   "outputs": [],
   "source": [
    "tfidf_model = gensim.models.TfidfModel( corp )\n",
    "\n",
    "tfidf = [ ]\n",
    "for i in range( 0, len( corp ) ):\n",
    "    tfidf.append( tfidf_model[ corp[ i ] ] )"
   ]
  },
  {
   "cell_type": "markdown",
   "metadata": {},
   "source": [
    "Create pairwise document similarity index"
   ]
  },
  {
   "cell_type": "code",
   "execution_count": 59,
   "metadata": {},
   "outputs": [],
   "source": [
    "n = len( dict )\n",
    "index = gensim.similarities.SparseMatrixSimilarity( tfidf_model[ corp ], num_features = n )"
   ]
  },
  {
   "cell_type": "markdown",
   "metadata": {},
   "source": [
    "Print TFIDF vectors and pairwise similarity per document"
   ]
  },
  {
   "cell_type": "raw",
   "metadata": {},
   "source": [
    "for i in range( 0, 5 ):\n",
    "    s = 'Doc ' + str( i + 1 ) + ' TFIDF:'\n",
    "\n",
    "    for j in range( 0, len( tfidf[ i ] ) ):\n",
    "        s = s + ' (' + dict.get( tfidf[ i ][ j ][ 0 ] ) + ','\n",
    "        s = s + ( '%.3f' % tfidf[ i ][ j ][ 1 ] ) + ')'\n",
    "\n",
    "    print(s)\n",
    "\n",
    "for i in range( 0, 5):\n",
    "    print('Doc', ( i + 1 ), 'sim: [ ',)\n",
    "\n",
    "    sim = index[ tfidf_model[ corp[ i ] ] ]\n",
    "    for j in range( 0, len( sim ) ):\n",
    "        print('%.3f ' % sim[ j ],)\n",
    "\n",
    "    print(']')"
   ]
  },
  {
   "cell_type": "markdown",
   "metadata": {},
   "source": [
    "Building lists for arousal and valence for the average of each tweet"
   ]
  },
  {
   "cell_type": "code",
   "execution_count": 61,
   "metadata": {},
   "outputs": [],
   "source": [
    "total_arousal = []\n",
    "total_valence = []\n",
    "\n",
    "for i in term_vec:\n",
    "    sent = sentiment.sentiment(i)\n",
    "    total_arousal.append(sent['arousal'])\n",
    "    total_valence.append(sent['valence'])"
   ]
  },
  {
   "cell_type": "markdown",
   "metadata": {},
   "source": [
    "Calculating the average of all the tweets"
   ]
  },
  {
   "cell_type": "code",
   "execution_count": 62,
   "metadata": {},
   "outputs": [
    {
     "name": "stdout",
     "output_type": "stream",
     "text": [
      "Average arousal is 4.136572476571285\n",
      "Average valence is 5.467436676430132\n"
     ]
    }
   ],
   "source": [
    "print(\"Average arousal is\", stat.mean(total_arousal))\n",
    "print(\"Average valence is\", stat.mean(total_valence))\n"
   ]
  },
  {
   "cell_type": "markdown",
   "metadata": {},
   "source": [
    "Need to plot sentiment"
   ]
  },
  {
   "cell_type": "code",
   "execution_count": 90,
   "metadata": {
    "scrolled": true
   },
   "outputs": [
    {
     "data": {
      "image/png": "[encoded data removed]",
      "text/plain": [
       "<Figure size 1080x864 with 1 Axes>"
      ]
     },
     "metadata": {},
     "output_type": "display_data"
    }
   ],
   "source": [
    "z = 4.5\n",
    "\n",
    "fig,ax = plt.subplots(figsize=(15,12))\n",
    "ax.set_xlim(0,9)\n",
    "ax.set_ylim(0,9)\n",
    "\n",
    "ax.scatter(total_arousal, total_valence, marker='s', s=30, c='#0A87A1', edgecolors='', lw=1)\n",
    "\n",
    "ax.axvline(z,color = 'grey',linestyle='dashed',lw=2)\n",
    "ax.axhline(z,color = 'grey',linestyle='dashed',lw=2)\n",
    "\n",
    "ax.fill_between([0, z],0,z, alpha=0.3, color='#80BFB7')\n",
    "ax.fill_between([z, 9], 0, z, alpha=0.3, color='#D2EBD5')  \n",
    "ax.fill_between([0, z], z, 9, alpha=0.3, color='#D2EBD5') \n",
    "ax.fill_between([z, 9], z, 9, alpha=0.3, color='#0A87A1')  \n",
    "\n",
    "plt.ylabel('Valence Scale - Low to High Pleasure', fontsize=30,labelpad=30, color='#0A87A1')\n",
    "plt.xlabel('Arousal Scale - Low to High Excitement', fontsize=30,labelpad=30, color='#0A87A1')\n",
    "#plt.title('Sentiment Analysis of iPhone Tweets', fontsize=40, pad=30, color='#0A87A1')\n",
    "plt.show()"
   ]
  },
  {
   "cell_type": "markdown",
   "metadata": {},
   "source": [
    "Building corpus for GenSim dictionary"
   ]
  },
  {
   "cell_type": "code",
   "execution_count": 28,
   "metadata": {},
   "outputs": [],
   "source": [
    "corpus = [dict.doc2bow(text) for text in term_vec]"
   ]
  },
  {
   "cell_type": "code",
   "execution_count": 89,
   "metadata": {},
   "outputs": [],
   "source": [
    "ldamodel5 = gensim.models.ldamodel.LdaModel(corpus, num_topics = 5, id2word=dict, passes=15)\n",
    "ldamodel5.save('models/model5.gensim')"
   ]
  },
  {
   "cell_type": "code",
   "execution_count": 47,
   "metadata": {},
   "outputs": [],
   "source": [
    "ldamodel20 = gensim.models.ldamodel.LdaModel(corpus, num_topics = 20, id2word=dict, passes=15)\n",
    "ldamodel20.save('models/model20.gensim')"
   ]
  },
  {
   "cell_type": "code",
   "execution_count": 53,
   "metadata": {},
   "outputs": [],
   "source": [
    "ldamodel3 = gensim.models.ldamodel.LdaModel(corpus, num_topics = 3, id2word=dict, passes=30)\n",
    "ldamodel3.save('models/model3.gensim')"
   ]
  },
  {
   "cell_type": "code",
   "execution_count": 52,
   "metadata": {},
   "outputs": [
    {
     "name": "stdout",
     "output_type": "stream",
     "text": [
      "[1.40496204e-05 2.28380528e-03 1.38194227e-05 1.40690745e-05\n",
      " 2.34370795e-03 1.17885320e-04 8.44721741e-04 1.40690745e-05\n",
      " 1.40690745e-05 8.08821642e-04 5.54801384e-03 9.89352819e-04\n",
      " 8.96723475e-03 1.95764922e-04 3.32124655e-05 3.32124655e-05\n",
      " 5.65647439e-04 1.99934148e-04 1.44810538e-05 1.34750408e-05\n",
      " 1.34988586e-05 1.40551656e-05 1.35188156e-05 1.34756174e-05\n",
      " 1.34756174e-05 1.66262180e-05 1.47968822e-05 1.37848065e-05\n",
      " 1.36596946e-05]\n"
     ]
    }
   ],
   "source": [
    "topics = ldamodel3.get_topics()\n",
    "terms = ldamodel3.get_topic_terms(topicid=0)\n",
    "\n",
    "#print(terms)\n",
    "print(topics[2][1:30])"
   ]
  },
  {
   "cell_type": "code",
   "execution_count": 135,
   "metadata": {},
   "outputs": [
    {
     "data": {
      "text/plain": [
       "['__class__',\n",
       " '__delattr__',\n",
       " '__dict__',\n",
       " '__dir__',\n",
       " '__doc__',\n",
       " '__eq__',\n",
       " '__format__',\n",
       " '__ge__',\n",
       " '__getattribute__',\n",
       " '__getitem__',\n",
       " '__gt__',\n",
       " '__hash__',\n",
       " '__ignoreds',\n",
       " '__init__',\n",
       " '__le__',\n",
       " '__lt__',\n",
       " '__module__',\n",
       " '__ne__',\n",
       " '__new__',\n",
       " '__numpys',\n",
       " '__recursive_saveloads',\n",
       " '__reduce__',\n",
       " '__reduce_ex__',\n",
       " '__repr__',\n",
       " '__scipys',\n",
       " '__setattr__',\n",
       " '__sizeof__',\n",
       " '__slotnames__',\n",
       " '__str__',\n",
       " '__subclasshook__',\n",
       " '__weakref__',\n",
       " '_adapt_by_suffix',\n",
       " '_apply',\n",
       " '_load_specials',\n",
       " '_save_specials',\n",
       " '_smart_save',\n",
       " 'alpha',\n",
       " 'bound',\n",
       " 'callbacks',\n",
       " 'chunksize',\n",
       " 'clear',\n",
       " 'decay',\n",
       " 'diff',\n",
       " 'dispatcher',\n",
       " 'distributed',\n",
       " 'do_estep',\n",
       " 'do_mstep',\n",
       " 'dtype',\n",
       " 'eta',\n",
       " 'eval_every',\n",
       " 'expElogbeta',\n",
       " 'gamma_threshold',\n",
       " 'get_document_topics',\n",
       " 'get_term_topics',\n",
       " 'get_topic_terms',\n",
       " 'get_topics',\n",
       " 'id2word',\n",
       " 'inference',\n",
       " 'init_dir_prior',\n",
       " 'iterations',\n",
       " 'load',\n",
       " 'log_perplexity',\n",
       " 'minimum_phi_value',\n",
       " 'minimum_probability',\n",
       " 'num_terms',\n",
       " 'num_topics',\n",
       " 'num_updates',\n",
       " 'numworkers',\n",
       " 'offset',\n",
       " 'optimize_alpha',\n",
       " 'optimize_eta',\n",
       " 'passes',\n",
       " 'per_word_topics',\n",
       " 'print_topic',\n",
       " 'print_topics',\n",
       " 'random_state',\n",
       " 'save',\n",
       " 'show_topic',\n",
       " 'show_topics',\n",
       " 'state',\n",
       " 'sync_state',\n",
       " 'top_topics',\n",
       " 'update',\n",
       " 'update_alpha',\n",
       " 'update_eta',\n",
       " 'update_every']"
      ]
     },
     "execution_count": 135,
     "metadata": {},
     "output_type": "execute_result"
    }
   ],
   "source": [
    "dir(ldamodel3)"
   ]
  },
  {
   "cell_type": "code",
   "execution_count": 148,
   "metadata": {},
   "outputs": [
    {
     "data": {
      "text/plain": [
       "'0.027*\"case\" + 0.026*\"youtub\" + 0.020*\"video\" + 0.018*\"like\" + 0.013*\"via\" + 0.011*\"review\" + 0.008*\"sale\" + 0.008*\"appl\" + 0.007*\"x\" + 0.007*\"sell\"'"
      ]
     },
     "execution_count": 148,
     "metadata": {},
     "output_type": "execute_result"
    }
   ],
   "source": [
    "ldamodel3.print_topic(topicno=0)"
   ]
  },
  {
   "cell_type": "code",
   "execution_count": 54,
   "metadata": {},
   "outputs": [
    {
     "name": "stderr",
     "output_type": "stream",
     "text": [
      "/usr/local/anaconda3/lib/python3.5/site-packages/pyLDAvis/_prepare.py:257: FutureWarning: Sorting because non-concatenation axis is not aligned. A future version\n",
      "of pandas will change to not sort by default.\n",
      "\n",
      "To accept the future behavior, pass 'sort=False'.\n",
      "\n",
      "To retain the current behavior and silence the warning, pass 'sort=True'.\n",
      "\n",
      "  return pd.concat([default_term_info] + list(topic_dfs))\n"
     ]
    }
   ],
   "source": [
    "lda = gensim.models.ldamodel.LdaModel.load('models/model3.gensim')\n",
    "lda_display = pyLDAvis.gensim.prepare(lda, corpus, dict, sort_topics=True)"
   ]
  },
  {
   "cell_type": "code",
   "execution_count": 55,
   "metadata": {},
   "outputs": [
    {
     "data": {
      "text/html": [
       "\n",
       "<link rel=\"stylesheet\" type=\"text/css\" href=\"https://cdn.rawgit.com/bmabey/pyLDAvis/files/ldavis.v1.0.0.css\">\n",
       "\n",
       "\n",
       "<div id=\"ldavis_el10061124366520969878464738\"></div>\n",
       "<script type=\"text/javascript\">\n",
       "\n",
       "var ldavis_el10061124366520969878464738_data = {\"plot.opts\": {\"xlab\": \"PC1\", \"ylab\": \"PC2\"}, \"token.table\": {\"Freq\": [0.9873496890068054, 0.5575295686721802, 0.44251471757888794, 0.9974238276481628, 0.9963533878326416, 0.9978632926940918, 0.3499951958656311, 0.6432344317436218, 0.9989839792251587, 0.8495593070983887, 0.14343209564685822, 0.18135304749011993, 0.13684923946857452, 0.6809083819389343, 0.9926797151565552, 0.46249765157699585, 0.48727431893348694, 0.049553319811820984, 0.9946120381355286, 0.9116548299789429, 0.08946146070957184, 0.7667844891548157, 0.23243989050388336, 0.9911158084869385, 0.017279045656323433, 0.6675994992256165, 0.3141644597053528, 0.9913427233695984, 0.18264751136302948, 0.8088675141334534, 0.9978146553039551, 0.98793625831604, 0.12643712759017944, 0.8710113167762756, 0.9955798387527466, 0.9730994701385498, 0.9945511221885681, 0.9716669321060181, 0.9639731645584106, 0.8431475162506104, 0.16394534707069397, 0.996155858039856, 0.9721372127532959, 0.9976224899291992, 0.9734823703765869, 0.9873814582824707, 0.9851257801055908, 0.9959294199943542, 0.9981589317321777, 0.7836132645606995, 0.14939388632774353, 0.06765006482601166, 0.9833236336708069, 0.9980671405792236, 0.5555335879325867, 0.4461103081703186, 0.988610029220581, 0.5339840054512024, 0.46321505308151245, 0.9950018525123596, 0.9957903027534485, 0.1135140061378479, 0.8797335624694824, 0.9938134551048279, 0.9922951459884644, 0.9989057779312134, 0.9949142336845398, 0.2766216993331909, 0.7227053642272949, 0.9910431504249573, 0.9064823389053345, 0.09064823389053345, 0.995288610458374, 0.9923314452171326, 0.9872446656227112, 0.9953376054763794, 0.9874699711799622, 0.9862457513809204, 0.633371889591217, 0.3607814610004425, 0.39133134484291077, 0.15051205456256866, 0.4582256078720093, 0.9996680021286011, 0.8773979544639587, 0.1214858740568161, 0.9714245200157166, 0.6758045554161072, 0.3235844075679779, 0.9328460693359375, 0.05758308991789818, 0.9730784296989441, 0.6479974985122681, 0.35136649012565613, 0.9959449768066406, 0.022455664351582527, 0.9880492687225342, 0.9724271893501282, 0.28790009021759033, 0.7101535201072693, 0.9909375309944153, 0.15891753137111664, 0.8299026489257812, 0.9860292077064514, 0.9921337962150574, 0.9966958165168762, 0.9943518042564392, 0.995782196521759, 0.9862155318260193, 0.32022443413734436, 0.6747586131095886, 0.9916478991508484, 0.9921337962150574, 0.9940868616104126, 0.9914947748184204, 0.9923275113105774, 0.9987548589706421, 0.9856786727905273, 0.19091176986694336, 0.33939868211746216, 0.46667319536209106, 0.9635053873062134, 0.03854021802544594, 0.9964120984077454, 0.9968605041503906, 0.9871760606765747, 0.988075852394104, 0.9897580742835999, 0.9910510182380676, 0.9918867945671082, 0.06655403226613998, 0.9317564368247986, 0.9922911524772644, 0.9897031784057617, 0.9962567090988159, 0.985564112663269, 0.9898831844329834, 0.16929326951503754, 0.8310760259628296, 0.9844741225242615, 0.9851188659667969, 0.9811350703239441, 0.1619931310415268, 0.10308653861284256, 0.7363324165344238, 0.9856201410293579, 0.9974912405014038, 0.8340301513671875, 0.1619476079940796, 0.9993310570716858, 0.4316938519477844, 0.1662021279335022, 0.4036337435245514, 0.9880551695823669, 0.9972385168075562, 0.9944642782211304, 0.8630052208900452, 0.13972465693950653, 0.9981756806373596, 0.30628466606140137, 0.6891404986381531, 0.9887048006057739, 0.9953792095184326, 0.31331953406333923, 0.4719623327255249, 0.2102017104625702, 0.6813632249832153, 0.31609633564949036, 0.9813450574874878, 0.9821747541427612, 0.9985993504524231, 0.9726387858390808, 0.9993850588798523, 0.9945529103279114, 0.9984498620033264, 0.9975693225860596], \"Topic\": [3, 1, 3, 2, 3, 2, 1, 2, 1, 2, 3, 1, 2, 3, 3, 1, 2, 3, 1, 1, 2, 1, 2, 1, 1, 2, 3, 2, 2, 3, 3, 2, 2, 3, 1, 3, 2, 2, 3, 2, 3, 3, 2, 1, 3, 3, 3, 2, 1, 1, 2, 3, 3, 2, 1, 3, 1, 1, 3, 1, 2, 1, 3, 3, 3, 1, 3, 1, 2, 2, 1, 2, 1, 2, 1, 3, 1, 2, 1, 3, 1, 2, 3, 1, 1, 2, 3, 1, 2, 1, 3, 3, 1, 3, 3, 2, 3, 3, 1, 3, 3, 2, 3, 2, 2, 1, 2, 1, 1, 1, 3, 3, 2, 2, 1, 2, 1, 1, 1, 2, 3, 1, 2, 2, 2, 3, 3, 3, 2, 3, 1, 3, 1, 2, 1, 1, 2, 1, 3, 1, 2, 3, 1, 2, 3, 1, 1, 2, 3, 2, 1, 2, 3, 1, 3, 2, 1, 2, 3, 1, 3, 3, 1, 1, 2, 3, 1, 3, 3, 1, 2, 2, 1, 2, 1, 1], \"Term\": [\"2018\", \"3\", \"3\", \"30\", \"40\", \"65\", \"8\", \"8\", \"9\", \"ad\", \"ad\", \"appl\", \"appl\", \"appl\", \"around\", \"best\", \"best\", \"best\", \"better\", \"buy\", \"buy\", \"camera\", \"camera\", \"cant\", \"case\", \"case\", \"case\", \"chang\", \"charg\", \"charg\", \"chat\", \"cinema\", \"clear\", \"clear\", \"come\", \"conver\", \"cover\", \"debryanshow\", \"dfu\", \"differ\", \"differ\", \"enter\", \"extra\", \"first\", \"fix\", \"follow\", \"forc\", \"foxconn\", \"galaxi\", \"get\", \"get\", \"get\", \"give\", \"glass\", \"go\", \"go\", \"good\", \"googl\", \"googl\", \"got\", \"hint\", \"io\", \"io\", \"ipad\", \"issu\", \"know\", \"launch\", \"like\", \"like\", \"littl\", \"look\", \"look\", \"love\", \"machin\", \"make\", \"man\", \"match\", \"mind\", \"need\", \"need\", \"new\", \"new\", \"new\", \"note\", \"one\", \"one\", \"perform\", \"phone\", \"phone\", \"photo\", \"photo\", \"piec\", \"pixel\", \"pixel\", \"plan\", \"power\", \"power\", \"pregnant\", \"price\", \"price\", \"pro\", \"problem\", \"problem\", \"protect\", \"q3\", \"qualiti\", \"rayito\", \"realli\", \"reason\", \"relea\", \"relea\", \"restart\", \"revenu\", \"review\", \"s9\", \"sale\", \"samsung\", \"say\", \"screen\", \"screen\", \"screen\", \"see\", \"see\", \"sell\", \"seri\", \"share\", \"shock\", \"sleep\", \"solid\", \"sprint\", \"stack\", \"stack\", \"still\", \"strong\", \"super\", \"take\", \"tell\", \"thank\", \"thank\", \"think\", \"unbox\", \"unlock\", \"updat\", \"updat\", \"updat\", \"upgrad\", \"use\", \"via\", \"via\", \"video\", \"vs\", \"vs\", \"vs\", \"wait\", \"wallpap\", \"walmart\", \"want\", \"want\", \"wife\", \"win\", \"win\", \"wireless\", \"would\", \"x\", \"x\", \"x\", \"xl\", \"xl\", \"xsxr\", \"year\", \"youtub\", \"zazzl\", \"zoom\", \"zurita\", \"\\u201c\", \"\\u201d\"]}, \"topic.order\": [3, 1, 2], \"mdsDat\": {\"Freq\": [44.51482009887695, 28.696887969970703, 26.788293838500977], \"topics\": [1, 2, 3], \"x\": [0.13819316394210457, -0.20282487918342493, 0.06463171524132025], \"cluster\": [1, 1, 1], \"y\": [0.14938534142458756, 0.04108704873585011, -0.1904723901604376]}, \"lambda.step\": 0.01, \"R\": 30, \"tinfo\": {\"Category\": [\"Default\", \"Default\", \"Default\", \"Default\", \"Default\", \"Default\", \"Default\", \"Default\", \"Default\", \"Default\", \"Default\", \"Default\", \"Default\", \"Default\", \"Default\", \"Default\", \"Default\", \"Default\", \"Default\", \"Default\", \"Default\", \"Default\", \"Default\", \"Default\", \"Default\", \"Default\", \"Default\", \"Default\", \"Default\", \"Default\", \"Topic1\", \"Topic1\", \"Topic1\", \"Topic1\", \"Topic1\", \"Topic1\", \"Topic1\", \"Topic1\", \"Topic1\", \"Topic1\", \"Topic1\", \"Topic1\", \"Topic1\", \"Topic1\", \"Topic1\", \"Topic1\", \"Topic1\", \"Topic1\", \"Topic1\", \"Topic1\", \"Topic1\", \"Topic1\", \"Topic1\", \"Topic1\", \"Topic1\", \"Topic1\", \"Topic1\", \"Topic1\", \"Topic1\", \"Topic1\", \"Topic1\", \"Topic1\", \"Topic1\", \"Topic1\", \"Topic1\", \"Topic1\", \"Topic1\", \"Topic1\", \"Topic1\", \"Topic1\", \"Topic1\", \"Topic1\", \"Topic1\", \"Topic1\", \"Topic1\", \"Topic1\", \"Topic1\", \"Topic1\", \"Topic1\", \"Topic1\", \"Topic2\", \"Topic2\", \"Topic2\", \"Topic2\", \"Topic2\", \"Topic2\", \"Topic2\", \"Topic2\", \"Topic2\", \"Topic2\", \"Topic2\", \"Topic2\", \"Topic2\", \"Topic2\", \"Topic2\", \"Topic2\", \"Topic2\", \"Topic2\", \"Topic2\", \"Topic2\", \"Topic2\", \"Topic2\", \"Topic2\", \"Topic2\", \"Topic2\", \"Topic2\", \"Topic2\", \"Topic2\", \"Topic2\", \"Topic2\", \"Topic2\", \"Topic2\", \"Topic2\", \"Topic2\", \"Topic2\", \"Topic2\", \"Topic2\", \"Topic2\", \"Topic2\", \"Topic2\", \"Topic2\", \"Topic2\", \"Topic2\", \"Topic3\", \"Topic3\", \"Topic3\", \"Topic3\", \"Topic3\", \"Topic3\", \"Topic3\", \"Topic3\", \"Topic3\", \"Topic3\", \"Topic3\", \"Topic3\", \"Topic3\", \"Topic3\", \"Topic3\", \"Topic3\", \"Topic3\", \"Topic3\", \"Topic3\", \"Topic3\", \"Topic3\", \"Topic3\", \"Topic3\", \"Topic3\", \"Topic3\", \"Topic3\", \"Topic3\", \"Topic3\", \"Topic3\", \"Topic3\", \"Topic3\", \"Topic3\", \"Topic3\", \"Topic3\", \"Topic3\", \"Topic3\", \"Topic3\", \"Topic3\", \"Topic3\", \"Topic3\", \"Topic3\", \"Topic3\", \"Topic3\", \"Topic3\", \"Topic3\", \"Topic3\", \"Topic3\", \"Topic3\", \"Topic3\", \"Topic3\", \"Topic3\"], \"Freq\": [415.0, 898.0, 317.0, 636.0, 401.0, 165.0, 512.0, 172.0, 160.0, 566.0, 213.0, 246.0, 129.0, 125.0, 128.0, 201.0, 208.0, 117.0, 182.0, 179.0, 178.0, 310.0, 108.0, 374.0, 105.0, 93.0, 234.0, 90.0, 139.0, 349.0, 200.848388671875, 178.53421020507812, 178.36309814453125, 181.62313842773438, 138.81434631347656, 123.60989379882812, 113.00163269042969, 105.27457427978516, 84.89041137695312, 80.82952117919922, 73.34443664550781, 73.77188110351562, 73.38764953613281, 71.49481964111328, 68.53882598876953, 66.75210571289062, 62.57732009887695, 83.24757385253906, 61.70189666748047, 61.35551452636719, 61.61359405517578, 58.39346694946289, 58.00214767456055, 63.349853515625, 56.26774597167969, 55.51356506347656, 58.559471130371094, 53.643409729003906, 52.913246154785156, 57.44102478027344, 60.069190979003906, 213.67398071289062, 74.75352478027344, 120.40148162841797, 130.22842407226562, 278.1988830566406, 286.5570068359375, 81.242431640625, 366.68865966796875, 104.56502532958984, 235.59173583984375, 286.1329040527344, 166.14540100097656, 233.9879608154297, 200.09095764160156, 97.3543930053711, 163.3014678955078, 111.45545196533203, 79.27140045166016, 79.44664001464844, 415.0282897949219, 316.6464538574219, 128.40701293945312, 107.90515899658203, 171.16375732421875, 116.8131103515625, 92.99382019042969, 89.69677734375, 79.09245300292969, 79.09245300292969, 79.07515716552734, 77.8967514038086, 81.87922668457031, 74.77184295654297, 72.11420440673828, 62.359283447265625, 56.542869567871094, 48.734886169433594, 51.89738464355469, 52.0523796081543, 48.8757438659668, 38.86577606201172, 42.759010314941406, 36.50800704956055, 34.947444915771484, 35.42118453979492, 31.369869232177734, 32.893245697021484, 31.33091163635254, 31.55251121520996, 206.43411254882812, 289.5565490722656, 425.4880676269531, 77.4901123046875, 71.53517150878906, 119.19654846191406, 68.03905487060547, 113.3541030883789, 123.33252716064453, 87.47623443603516, 90.14116668701172, 76.62512969970703, 58.722198486328125, 165.11544799804688, 160.2549285888672, 129.37782287597656, 124.90106201171875, 63.732276916503906, 61.35622787475586, 55.92338180541992, 54.661476135253906, 57.09243392944336, 56.312808990478516, 44.72055435180664, 46.289737701416016, 38.52215576171875, 37.93673324584961, 36.83749008178711, 36.47704315185547, 44.744022369384766, 38.448944091796875, 36.882137298583984, 36.42911148071289, 37.84421157836914, 38.68048858642578, 33.08041000366211, 34.86372756958008, 31.30891990661621, 33.50120162963867, 30.68410301208496, 29.512920379638672, 29.289052963256836, 27.46345329284668, 43.642822265625, 97.907470703125, 186.44778442382812, 612.1653442382812, 62.213714599609375, 148.23167419433594, 62.36357116699219, 273.8296203613281, 226.57608032226562, 53.85751724243164, 71.90303039550781, 186.5751953125, 144.4630584716797, 199.408935546875, 199.94667053222656, 47.40642547607422, 59.13408279418945, 66.37507629394531, 49.6358642578125, 52.66477966308594, 53.49557113647461], \"Total\": [415.0, 898.0, 317.0, 636.0, 401.0, 165.0, 512.0, 172.0, 160.0, 566.0, 213.0, 246.0, 129.0, 125.0, 128.0, 201.0, 208.0, 117.0, 182.0, 179.0, 178.0, 310.0, 108.0, 374.0, 105.0, 93.0, 234.0, 90.0, 139.0, 349.0, 201.37074279785156, 179.0594482421875, 178.89413452148438, 182.1851043701172, 139.34959411621094, 124.15458679199219, 113.53490447998047, 105.81571960449219, 85.46045684814453, 81.37602233886719, 73.88251495361328, 74.32854461669922, 73.94316864013672, 72.03996276855469, 69.0755844116211, 67.2837905883789, 63.097808837890625, 83.95626068115234, 62.23295593261719, 61.886295318603516, 62.15106964111328, 58.914703369140625, 58.519901275634766, 63.91914749145508, 56.782718658447266, 56.03445816040039, 59.14060592651367, 54.17901611328125, 53.45464324951172, 58.03447723388672, 60.7613410949707, 234.7379608154297, 77.84076690673828, 132.37985229492188, 148.16537475585938, 354.766845703125, 374.2903137207031, 86.83104705810547, 566.3602294921875, 121.66786193847656, 349.21337890625, 512.977294921875, 310.8707275390625, 597.958740234375, 463.2912902832031, 142.36166381835938, 898.79931640625, 401.27001953125, 124.729248046875, 252.13876342773438, 415.58209228515625, 317.2121887207031, 128.9896697998047, 108.44142150878906, 172.0171661376953, 117.42129516601562, 93.52826690673828, 90.23245239257812, 79.62635803222656, 79.62635803222656, 79.6104965209961, 78.43418884277344, 82.44925689697266, 75.31706237792969, 72.650146484375, 62.93656921386719, 57.11038589477539, 49.268367767333984, 52.469966888427734, 52.63497543334961, 49.500789642333984, 39.40575408935547, 43.37551498413086, 37.079227447509766, 35.495906829833984, 36.00314712524414, 31.9039363861084, 33.46022033691406, 31.872058868408203, 32.10078048706055, 246.99346923828125, 401.27001953125, 636.6092529296875, 90.63522338867188, 85.3943099975586, 252.13876342773438, 105.71573638916016, 349.21337890625, 898.79931640625, 374.2903137207031, 597.958740234375, 463.2912902832031, 121.08169555664062, 165.6717987060547, 160.81788635253906, 129.95127868652344, 125.4574966430664, 64.29978942871094, 61.92102813720703, 56.471656799316406, 55.212242126464844, 57.73030471801758, 56.94971466064453, 45.280128479003906, 46.88447189331055, 39.0712776184082, 38.4936408996582, 37.38287353515625, 37.02076721191406, 45.41154098510742, 39.035118103027344, 37.44651794433594, 36.99599075317383, 38.434120178222656, 39.30282211303711, 33.627315521240234, 35.44729232788086, 31.856969833374023, 34.09415054321289, 31.25356674194336, 30.065704345703125, 29.853065490722656, 28.009078979492188, 44.53219223022461, 105.17770385742188, 213.5448760986328, 898.79931640625, 70.47588348388672, 208.4056396484375, 76.65037536621094, 597.958740234375, 512.977294921875, 64.97600555419922, 104.47796630859375, 463.2912902832031, 310.8707275390625, 566.3602294921875, 636.6092529296875, 56.633148193359375, 87.43867492675781, 141.4265899658203, 67.90411376953125, 118.80469512939453, 252.13876342773438], \"logprob\": [30.0, 29.0, 28.0, 27.0, 26.0, 25.0, 24.0, 23.0, 22.0, 21.0, 20.0, 19.0, 18.0, 17.0, 16.0, 15.0, 14.0, 13.0, 12.0, 11.0, 10.0, 9.0, 8.0, 7.0, 6.0, 5.0, 4.0, 3.0, 2.0, 1.0, -4.810100078582764, -4.9278998374938965, -4.928899765014648, -4.910799980163574, -5.179599761962891, -5.295599937438965, -5.385300159454346, -5.456099987030029, -5.671299934387207, -5.720399856567383, -5.817500114440918, -5.811699867248535, -5.81689977645874, -5.843100070953369, -5.885300159454346, -5.9116997718811035, -5.97629976272583, -5.690899848937988, -5.9903998374938965, -5.995999813079834, -5.991799831390381, -6.045499801635742, -6.052199840545654, -5.964000225067139, -6.082600116729736, -6.096099853515625, -6.042699813842773, -6.130300045013428, -6.144000053405762, -6.0619001388549805, -6.017199993133545, -4.748199939727783, -5.798500061035156, -5.321899890899658, -5.2434000968933105, -4.484399795532227, -4.454800128936768, -5.7153000831604, -4.208199977874756, -5.462900161743164, -4.650599956512451, -4.456200122833252, -4.999800205230713, -4.657400131225586, -4.813899993896484, -5.534299850463867, -5.017099857330322, -5.399099826812744, -5.739799976348877, -5.737599849700928, -3.6452999114990234, -3.9158999919891357, -4.81850004196167, -4.992400169372559, -4.531000137329102, -4.913099765777588, -5.14109992980957, -5.177199840545654, -5.302999973297119, -5.302999973297119, -5.303299903869629, -5.318299770355225, -5.268400192260742, -5.3592000007629395, -5.395400047302246, -5.540800094604492, -5.638700008392334, -5.787300109863281, -5.724400043487549, -5.721399784088135, -5.78439998626709, -6.013599872589111, -5.918099880218506, -6.076099872589111, -6.119800090789795, -6.106400012969971, -6.227799892425537, -6.1803998947143555, -6.229100227355957, -6.2220001220703125, -4.343699932098389, -4.005300045013428, -3.6203999519348145, -5.323500156402588, -5.403500080108643, -4.892899990081787, -5.45359992980957, -4.9430999755859375, -4.858799934387207, -5.202300071716309, -5.172299861907959, -5.334700107574463, -5.600800037384033, -4.498199939727783, -4.52810001373291, -4.742099761962891, -4.777299880981445, -5.450099945068359, -5.488100051879883, -5.580900192260742, -5.603700160980225, -5.560200214385986, -5.57390022277832, -5.8043999671936035, -5.769899845123291, -5.95359992980957, -5.968900203704834, -5.998300075531006, -6.008200168609619, -5.803899765014648, -5.95550012588501, -5.997099876403809, -6.009500026702881, -5.971399784088135, -5.94950008392334, -6.105899810791016, -6.053400039672852, -6.160900115966797, -6.093299865722656, -6.181099891662598, -6.21999979019165, -6.22760009765625, -6.291999816894531, -5.828800201416016, -5.0208001136779785, -4.376699924468994, -3.1877999305725098, -5.474299907684326, -4.606100082397461, -5.47189998626709, -3.992300033569336, -4.18179988861084, -5.618500232696533, -5.329500198364258, -4.375999927520752, -4.631800174713135, -4.309500217437744, -4.30679988861084, -5.746099948883057, -5.525000095367432, -5.4095001220703125, -5.700099945068359, -5.640900135040283, -5.625199794769287], \"Term\": [\"youtub\", \"appl\", \"video\", \"case\", \"like\", \"plan\", \"3\", \"review\", \"launch\", \"pixel\", \"clear\", \"via\", \"around\", \"40\", \"sale\", \"galaxi\", \"price\", \"sell\", \"9\", \"note\", \"got\", \"googl\", \"foxconn\", \"camera\", \"stack\", \"rayito\", \"buy\", \"30\", \"use\", \"phone\", \"galaxi\", \"note\", \"got\", \"9\", \"use\", \"samsung\", \"love\", \"still\", \"better\", \"would\", \"wait\", \"come\", \"make\", \"take\", \"know\", \"realli\", \"\\u201c\", \"good\", \"super\", \"say\", \"\\u201d\", \"think\", \"cant\", \"upgrad\", \"reason\", \"zoom\", \"first\", \"qualiti\", \"s9\", \"year\", \"match\", \"buy\", \"see\", \"look\", \"one\", \"get\", \"camera\", \"photo\", \"pixel\", \"want\", \"phone\", \"3\", \"googl\", \"new\", \"vs\", \"xl\", \"appl\", \"like\", \"need\", \"x\", \"youtub\", \"video\", \"sale\", \"foxconn\", \"review\", \"sell\", \"rayito\", \"30\", \"q3\", \"revenu\", \"machin\", \"walmart\", \"cover\", \"hint\", \"solid\", \"unbox\", \"glass\", \"zurita\", \"littl\", \"cinema\", \"tell\", \"strong\", \"chang\", \"65\", \"protect\", \"extra\", \"debryanshow\", \"mind\", \"zazzl\", \"seri\", \"via\", \"like\", \"case\", \"ad\", \"differ\", \"x\", \"8\", \"phone\", \"appl\", \"camera\", \"new\", \"vs\", \"best\", \"plan\", \"launch\", \"around\", \"40\", \"man\", \"forc\", \"restart\", \"enter\", \"2018\", \"give\", \"ipad\", \"unlock\", \"wife\", \"share\", \"sleep\", \"pregnant\", \"pro\", \"fix\", \"shock\", \"piec\", \"wireless\", \"issu\", \"xsxr\", \"follow\", \"conver\", \"wallpap\", \"sprint\", \"chat\", \"perform\", \"dfu\", \"power\", \"stack\", \"clear\", \"appl\", \"io\", \"price\", \"charg\", \"new\", \"3\", \"thank\", \"win\", \"vs\", \"googl\", \"pixel\", \"case\", \"problem\", \"relea\", \"screen\", \"updat\", \"go\", \"x\"], \"loglift\": [30.0, 29.0, 28.0, 27.0, 26.0, 25.0, 24.0, 23.0, 22.0, 21.0, 20.0, 19.0, 18.0, 17.0, 16.0, 15.0, 14.0, 13.0, 12.0, 11.0, 10.0, 9.0, 8.0, 7.0, 6.0, 5.0, 4.0, 3.0, 2.0, 1.0, 0.8068000078201294, 0.8064000010490417, 0.8064000010490417, 0.8062999844551086, 0.8054999709129333, 0.8050000071525574, 0.8046000003814697, 0.8041999936103821, 0.8026999831199646, 0.8026000261306763, 0.8019999861717224, 0.801800012588501, 0.801800012588501, 0.801800012588501, 0.8015000224113464, 0.8014000058174133, 0.8011000156402588, 0.8008999824523926, 0.8008000254631042, 0.8007000088691711, 0.8007000088691711, 0.8004999756813049, 0.8004999756813049, 0.8004000186920166, 0.8001999855041504, 0.800000011920929, 0.7994999885559082, 0.7993999719619751, 0.7991999983787537, 0.7990999817848206, 0.7979000210762024, 0.7153000235557556, 0.7688999772071838, 0.7145000100135803, 0.6802999973297119, 0.5662000179290771, 0.5422999858856201, 0.7427999973297119, 0.37459999322891235, 0.6578999757766724, 0.415800005197525, 0.225600004196167, 0.18279999494552612, -0.12890000641345978, -0.03020000085234642, 0.4293000102043152, -0.8960999846458435, -0.4717000126838684, 0.3560999929904938, -0.34549999237060547, 1.246999979019165, 1.2466000318527222, 1.243899941444397, 1.243399977684021, 1.243399977684021, 1.2431999444961548, 1.2426999807357788, 1.242400050163269, 1.2417000532150269, 1.2417000532150269, 1.2416000366210938, 1.2415000200271606, 1.2414000034332275, 1.2410999536514282, 1.2410000562667847, 1.2391999959945679, 1.2383999824523926, 1.2374999523162842, 1.2374000549316406, 1.2373000383377075, 1.235700011253357, 1.2345999479293823, 1.2340999841690063, 1.2329000234603882, 1.232800006866455, 1.232100009918213, 1.2315000295639038, 1.2312999963760376, 1.2312999963760376, 1.2311999797821045, 1.069000005722046, 0.9221000075340271, 0.8454999923706055, 1.0916999578475952, 1.0713000297546387, 0.4991999864578247, 0.807699978351593, 0.12319999933242798, -0.7378000020980835, -0.2053000032901764, -0.6438000202178955, -0.5509999990463257, 0.5246999859809875, 1.3137999773025513, 1.3136999607086182, 1.3128000497817993, 1.3128000497817993, 1.3083000183105469, 1.3079999685287476, 1.3073999881744385, 1.3071999549865723, 1.3061000108718872, 1.305999994277954, 1.304800033569336, 1.3043999671936035, 1.3030999898910522, 1.3026000261306763, 1.3025000095367432, 1.30239999294281, 1.30239999294281, 1.3020999431610107, 1.3020000457763672, 1.301800012588501, 1.3016999959945679, 1.301200032234192, 1.3007999658584595, 1.3006000518798828, 1.2999000549316406, 1.2997000217437744, 1.298799991607666, 1.2985999584197998, 1.2980999946594238, 1.2975000143051147, 1.2970000505447388, 1.2455999851226807, 1.18149995803833, 0.9330999851226807, 1.1924999952316284, 0.9764999747276306, 1.1109000444412231, 0.5361999869346619, 0.5001000165939331, 1.1295000314712524, 0.9434999823570251, 0.4077000021934509, 0.5508999824523926, 0.2732999920845032, 0.1590999960899353, 1.1394000053405762, 0.9261000156402588, 0.560699999332428, 1.0038000345230103, 0.5037000179290771, -0.23319999873638153]}};\n",
       "\n",
       "function LDAvis_load_lib(url, callback){\n",
       "  var s = document.createElement('script');\n",
       "  s.src = url;\n",
       "  s.async = true;\n",
       "  s.onreadystatechange = s.onload = callback;\n",
       "  s.onerror = function(){console.warn(\"failed to load library \" + url);};\n",
       "  document.getElementsByTagName(\"head\")[0].appendChild(s);\n",
       "}\n",
       "\n",
       "if(typeof(LDAvis) !== \"undefined\"){\n",
       "   // already loaded: just create the visualization\n",
       "   !function(LDAvis){\n",
       "       new LDAvis(\"#\" + \"ldavis_el10061124366520969878464738\", ldavis_el10061124366520969878464738_data);\n",
       "   }(LDAvis);\n",
       "}else if(typeof define === \"function\" && define.amd){\n",
       "   // require.js is available: use it to load d3/LDAvis\n",
       "   require.config({paths: {d3: \"https://cdnjs.cloudflare.com/ajax/libs/d3/3.5.5/d3.min\"}});\n",
       "   require([\"d3\"], function(d3){\n",
       "      window.d3 = d3;\n",
       "      LDAvis_load_lib(\"https://cdn.rawgit.com/bmabey/pyLDAvis/files/ldavis.v1.0.0.js\", function(){\n",
       "        new LDAvis(\"#\" + \"ldavis_el10061124366520969878464738\", ldavis_el10061124366520969878464738_data);\n",
       "      });\n",
       "    });\n",
       "}else{\n",
       "    // require.js not available: dynamically load d3 & LDAvis\n",
       "    LDAvis_load_lib(\"https://cdnjs.cloudflare.com/ajax/libs/d3/3.5.5/d3.min.js\", function(){\n",
       "         LDAvis_load_lib(\"https://cdn.rawgit.com/bmabey/pyLDAvis/files/ldavis.v1.0.0.js\", function(){\n",
       "                 new LDAvis(\"#\" + \"ldavis_el10061124366520969878464738\", ldavis_el10061124366520969878464738_data);\n",
       "            })\n",
       "         });\n",
       "}\n",
       "</script>"
      ],
      "text/plain": [
       "<IPython.core.display.HTML object>"
      ]
     },
     "execution_count": 55,
     "metadata": {},
     "output_type": "execute_result"
    }
   ],
   "source": [
    "pyLDAvis.display(lda_display)"
   ]
  },
  {
   "cell_type": "code",
   "execution_count": 34,
   "metadata": {},
   "outputs": [
    {
     "name": "stdout",
     "output_type": "stream",
     "text": [
      "\n",
      "Note: if you're in the IPython notebook, pyLDAvis.show() is not the best command\n",
      "      to use. Consider using pyLDAvis.display(), or pyLDAvis.enable_notebook().\n",
      "      See more information at http://pyLDAvis.github.io/quickstart.html .\n",
      "\n",
      "You must interrupt the kernel to end this command\n",
      "\n",
      "Serving to http://127.0.0.1:8889/    [Ctrl-C to exit]\n"
     ]
    },
    {
     "name": "stderr",
     "output_type": "stream",
     "text": [
      "127.0.0.1 - - [18/Oct/2018 21:01:18] \"GET / HTTP/1.1\" 200 -\n",
      "127.0.0.1 - - [18/Oct/2018 21:01:18] \"GET /LDAvis.css HTTP/1.1\" 200 -\n",
      "127.0.0.1 - - [18/Oct/2018 21:01:18] \"GET /d3.js HTTP/1.1\" 200 -\n",
      "127.0.0.1 - - [18/Oct/2018 21:01:18] \"GET /LDAvis.js HTTP/1.1\" 200 -\n",
      "127.0.0.1 - - [18/Oct/2018 21:01:19] code 404, message Not Found\n",
      "127.0.0.1 - - [18/Oct/2018 21:01:19] \"GET /favicon.ico HTTP/1.1\" 404 -\n"
     ]
    },
    {
     "name": "stdout",
     "output_type": "stream",
     "text": [
      "\n",
      "stopping Server...\n"
     ]
    }
   ],
   "source": [
    "pyLDAvis.show(lda_display)"
   ]
  },
  {
   "cell_type": "code",
   "execution_count": null,
   "metadata": {},
   "outputs": [],
   "source": []
  }
 ],
 "metadata": {
  "kernelspec": {
   "display_name": "Python 3",
   "language": "python",
   "name": "python3"
  },
  "language_info": {
   "codemirror_mode": {
    "name": "ipython",
    "version": 3
   },
   "file_extension": ".py",
   "mimetype": "text/x-python",
   "name": "python",
   "nbconvert_exporter": "python",
   "pygments_lexer": "ipython3",
   "version": "3.6.5"
  }
 },
 "nbformat": 4,
 "nbformat_minor": 2
}
