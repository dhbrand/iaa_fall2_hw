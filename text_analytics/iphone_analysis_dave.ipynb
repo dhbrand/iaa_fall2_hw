{
 "cells": [
  {
   "cell_type": "code",
   "execution_count": 1,
   "metadata": {},
   "outputs": [],
   "source": [
    "import pandas as pd\n",
    "import gensim\n",
    "import nltk\n",
    "import re\n",
    "import string\n",
    "from sentiment_module import sentiment\n",
    "import statistics as stat\n",
    "import pyLDAvis.gensim\n",
    "import matplotlib.pyplot as plt"
   ]
  },
  {
   "cell_type": "markdown",
   "metadata": {},
   "source": [
    "getting all the tweets"
   ]
  },
  {
   "cell_type": "code",
   "execution_count": 2,
   "metadata": {},
   "outputs": [],
   "source": [
    "twt_5k = pd.read_csv(\"../data/dave_1_5000_tweet_1.csv\")\n",
    "twt_10k = pd.read_csv(\"../data/dave_5001_10000_tweet_1.csv\")"
   ]
  },
  {
   "cell_type": "code",
   "execution_count": 3,
   "metadata": {},
   "outputs": [],
   "source": [
    "qing = pd.read_csv(\"../data/Qing_10000_tweet.csv\")\n",
    "ryan = pd.read_csv(\"../data/ryan_1_10000_tweet.csv\")"
   ]
  },
  {
   "cell_type": "markdown",
   "metadata": {},
   "source": [
    "Combining into one dataframe"
   ]
  },
  {
   "cell_type": "code",
   "execution_count": 4,
   "metadata": {},
   "outputs": [
    {
     "data": {
      "text/plain": [
       "30020"
      ]
     },
     "execution_count": 4,
     "metadata": {},
     "output_type": "execute_result"
    }
   ],
   "source": [
    "twt = pd.concat([twt_5k, twt_10k, qing, ryan])\n",
    "len(twt)"
   ]
  },
  {
   "cell_type": "markdown",
   "metadata": {},
   "source": [
    "Filtering retweets from dataset"
   ]
  },
  {
   "cell_type": "code",
   "execution_count": 5,
   "metadata": {},
   "outputs": [
    {
     "name": "stdout",
     "output_type": "stream",
     "text": [
      "6                                           Iphone XS 😩\n",
      "9     SMART GADGETS ELECTRONICS PVT LTD  #USDCASH SA...\n",
      "10    @s_sprimuss I've used the Iphone Xs for two we...\n",
      "15    Apple iPhone XS and XS MAX Review https://t.co...\n",
      "17    eBay: Apple iPhone XS Max - 512GB - Space Grey...\n",
      "18    Google Pixel 3 and Pixel 3 XL are here to take...\n",
      "19    IPhone X;Iphone XS; IPhone XR; IPhone 6s; IPho...\n",
      "24    iDrop News is giving away a free iPhone XS Max...\n",
      "28    The iPhone XR Is Depressing... https://t.co/gk...\n",
      "29    The iPhone XR Is Depressing... https://t.co/gk...\n",
      "Name: body, dtype: object\n"
     ]
    }
   ],
   "source": [
    "og_twt = twt['retweet']==0\n",
    "twt_no_rt = twt[og_twt]\n",
    "print(twt_no_rt['body'].head(n=10))"
   ]
  },
  {
   "cell_type": "code",
   "execution_count": 6,
   "metadata": {},
   "outputs": [
    {
     "name": "stdout",
     "output_type": "stream",
     "text": [
      "7791\n"
     ]
    }
   ],
   "source": [
    "tweets = twt_no_rt['body'].tolist()\n",
    "print(len(tweets))"
   ]
  },
  {
   "cell_type": "markdown",
   "metadata": {},
   "source": [
    "sending original tweets to csv"
   ]
  },
  {
   "cell_type": "code",
   "execution_count": 7,
   "metadata": {},
   "outputs": [],
   "source": [
    "tweets_df = pd.DataFrame({'tweets':tweets})\n",
    "tweets_df.to_csv(\"../data/clean_tweets.csv\")"
   ]
  },
  {
   "cell_type": "markdown",
   "metadata": {},
   "source": [
    "Tokenizing words"
   ]
  },
  {
   "cell_type": "code",
   "execution_count": 8,
   "metadata": {},
   "outputs": [
    {
     "name": "stdout",
     "output_type": "stream",
     "text": [
      "7791\n"
     ]
    }
   ],
   "source": [
    "punc = re.compile( '[%s]' % re.escape( string.punctuation ) )\n",
    "term_vec = [ ]\n",
    "\n",
    "for t in tweets:\n",
    "    t = t.lower()\n",
    "    t = punc.sub( '', t )\n",
    "    term_vec.append( nltk.word_tokenize( t ) )\n",
    "\n",
    "print(len(term_vec))"
   ]
  },
  {
   "cell_type": "markdown",
   "metadata": {},
   "source": [
    "Removing tweets with promotional words"
   ]
  },
  {
   "cell_type": "code",
   "execution_count": 9,
   "metadata": {},
   "outputs": [],
   "source": [
    "promo = pd.read_csv(\"promo_words.csv\", header=None)\n",
    "promo = list(promo.iloc[0])\n",
    "promo = [i.strip() for i in promo]"
   ]
  },
  {
   "cell_type": "code",
   "execution_count": 10,
   "metadata": {},
   "outputs": [
    {
     "name": "stdout",
     "output_type": "stream",
     "text": [
      "6737\n"
     ]
    }
   ],
   "source": [
    "for idx, t in enumerate(term_vec):\n",
    "    if any([elem in promo for elem in t]):\n",
    "        del term_vec[idx]\n",
    "        \n",
    "print(len(term_vec))"
   ]
  },
  {
   "cell_type": "markdown",
   "metadata": {},
   "source": [
    "Print resulting term vectors"
   ]
  },
  {
   "cell_type": "raw",
   "metadata": {},
   "source": [
    "for vec in term_vec:\n",
    "    print(vec)"
   ]
  },
  {
   "cell_type": "markdown",
   "metadata": {},
   "source": [
    "Remove stop words from term vectors"
   ]
  },
  {
   "cell_type": "code",
   "execution_count": 11,
   "metadata": {},
   "outputs": [],
   "source": [
    "stop_words = nltk.corpus.stopwords.words( 'english' )\n",
    "iphone_words = ['iphone', 'max', 'xs', 'xr', 'iphonexs', 'iphonexr', \"’\"]\n",
    "for i in iphone_words:\n",
    "    stop_words.append(i)\n",
    "\n",
    "for i in range( 0, len( term_vec ) ):\n",
    "    term_list = [ ]\n",
    "\n",
    "    for term in term_vec[ i ]:\n",
    "        if term not in stop_words:\n",
    "            term_list.append( term )\n",
    "\n",
    "    term_vec[ i ] = term_list"
   ]
  },
  {
   "cell_type": "markdown",
   "metadata": {},
   "source": [
    "Print term vectors with stop words removed"
   ]
  },
  {
   "cell_type": "raw",
   "metadata": {},
   "source": [
    "for vec in term_vec[100:1100]:\n",
    "    print(vec)"
   ]
  },
  {
   "cell_type": "code",
   "execution_count": 12,
   "metadata": {},
   "outputs": [
    {
     "data": {
      "text/plain": [
       "6737"
      ]
     },
     "execution_count": 12,
     "metadata": {},
     "output_type": "execute_result"
    }
   ],
   "source": [
    "len(term_vec)"
   ]
  },
  {
   "cell_type": "markdown",
   "metadata": {},
   "source": [
    "Porter stem remaining terms"
   ]
  },
  {
   "cell_type": "code",
   "execution_count": 13,
   "metadata": {},
   "outputs": [],
   "source": [
    "porter = nltk.stem.porter.PorterStemmer()\n",
    "\n",
    "for i in range( 0, len( term_vec ) ):\n",
    "    for j in range( 0, len( term_vec[ i ] ) ):\n",
    "        term_vec[ i ][ j ] = porter.stem( term_vec[ i ][ j ] )"
   ]
  },
  {
   "cell_type": "markdown",
   "metadata": {},
   "source": [
    "Print term vectors with stop words removed"
   ]
  },
  {
   "cell_type": "raw",
   "metadata": {},
   "source": [
    "for vec in term_vec[500:510]:\n",
    "    print(vec)"
   ]
  },
  {
   "cell_type": "markdown",
   "metadata": {},
   "source": [
    "Convert term vectors into gensim dictionary"
   ]
  },
  {
   "cell_type": "code",
   "execution_count": 18,
   "metadata": {},
   "outputs": [],
   "source": [
    "dict = gensim.corpora.Dictionary( term_vec )\n",
    "\n",
    "corp = [ ]\n",
    "for i in range( 0, len( term_vec ) ):\n",
    "    corp.append( dict.doc2bow( term_vec[ i ] ) )"
   ]
  },
  {
   "cell_type": "markdown",
   "metadata": {},
   "source": [
    "Create TFIDF vectors based on term vectors bag-of-word corpora"
   ]
  },
  {
   "cell_type": "code",
   "execution_count": 20,
   "metadata": {},
   "outputs": [],
   "source": [
    "tfidf_model = gensim.models.TfidfModel( corp )\n",
    "\n",
    "tfidf = [ ]\n",
    "for i in range( 0, len( corp ) ):\n",
    "    tfidf.append( tfidf_model[ corp[ i ] ] )"
   ]
  },
  {
   "cell_type": "markdown",
   "metadata": {},
   "source": [
    "Create pairwise document similarity index"
   ]
  },
  {
   "cell_type": "code",
   "execution_count": 21,
   "metadata": {},
   "outputs": [],
   "source": [
    "n = len( dict )\n",
    "index = gensim.similarities.SparseMatrixSimilarity( tfidf_model[ corp ], num_features = n )"
   ]
  },
  {
   "cell_type": "markdown",
   "metadata": {},
   "source": [
    "Print TFIDF vectors and pairwise similarity per document"
   ]
  },
  {
   "cell_type": "raw",
   "metadata": {},
   "source": [
    "for i in range( 0, 5 ):\n",
    "    s = 'Doc ' + str( i + 1 ) + ' TFIDF:'\n",
    "\n",
    "    for j in range( 0, len( tfidf[ i ] ) ):\n",
    "        s = s + ' (' + dict.get( tfidf[ i ][ j ][ 0 ] ) + ','\n",
    "        s = s + ( '%.3f' % tfidf[ i ][ j ][ 1 ] ) + ')'\n",
    "\n",
    "    print(s)\n",
    "\n",
    "for i in range( 0, 5):\n",
    "    print('Doc', ( i + 1 ), 'sim: [ ',)\n",
    "\n",
    "    sim = index[ tfidf_model[ corp[ i ] ] ]\n",
    "    for j in range( 0, len( sim ) ):\n",
    "        print('%.3f ' % sim[ j ],)\n",
    "\n",
    "    print(']')"
   ]
  },
  {
   "cell_type": "markdown",
   "metadata": {},
   "source": [
    "Building lists for arousal and valence for the average of each tweet"
   ]
  },
  {
   "cell_type": "code",
   "execution_count": 149,
   "metadata": {},
   "outputs": [],
   "source": [
    "total_arousal = []\n",
    "total_valence = []\n",
    "\n",
    "for i in term_vec:\n",
    "    sent = sentiment.sentiment(i)\n",
    "    total_arousal.append(sent['arousal'])\n",
    "    total_valence.append(sent['valence'])"
   ]
  },
  {
   "cell_type": "markdown",
   "metadata": {},
   "source": [
    "Calculating the average of all the tweets"
   ]
  },
  {
   "cell_type": "code",
   "execution_count": 150,
   "metadata": {},
   "outputs": [
    {
     "name": "stdout",
     "output_type": "stream",
     "text": [
      "Average arousal is 4.174494751328458\n",
      "Average valence is 5.521493335310262\n"
     ]
    }
   ],
   "source": [
    "print(\"Average arousal is\", stat.mean(total_arousal))\n",
    "print(\"Average valence is\", stat.mean(total_valence))\n"
   ]
  },
  {
   "cell_type": "markdown",
   "metadata": {},
   "source": [
    "Need to plot sentiment"
   ]
  },
  {
   "cell_type": "code",
   "execution_count": 151,
   "metadata": {},
   "outputs": [
    {
     "data": {
      "image/png": "[encoded data removed]",
      "text/plain": [
       "<Figure size 1080x864 with 1 Axes>"
      ]
     },
     "metadata": {},
     "output_type": "display_data"
    }
   ],
   "source": [
    "z = 4.5\n",
    "\n",
    "fig,ax = plt.subplots(figsize=(15,12))\n",
    "ax.set_xlim(0,9)\n",
    "ax.set_ylim(0,9)\n",
    "\n",
    "ax.scatter(total_arousal, total_valence, marker='s', s=30, c='#0A87A1', edgecolors='', lw=1)\n",
    "\n",
    "ax.axvline(z,color = 'grey',linestyle='dashed',lw=2)\n",
    "ax.axhline(z,color = 'grey',linestyle='dashed',lw=2)\n",
    "\n",
    "ax.fill_between([0, z],0,z, alpha=0.3, color='#80BFB7')\n",
    "ax.fill_between([z, 9], 0, z, alpha=0.3, color='#D2EBD5')  \n",
    "ax.fill_between([0, z], z, 9, alpha=0.3, color='#D2EBD5') \n",
    "ax.fill_between([z, 9], z, 9, alpha=0.3, color='#0A87A1')  \n",
    "\n",
    "plt.ylabel('Valence Scale - Low to High Pleasure', fontsize=30,labelpad=30, color='#0A87A1')\n",
    "plt.xlabel('Arousal Scale - Low to High Excitement', fontsize=30,labelpad=30, color='#0A87A1')\n",
    "#plt.title('Sentiment Analysis of iPhone Tweets', fontsize=40, pad=30, color='#0A87A1')\n",
    "plt.show()"
   ]
  },
  {
   "cell_type": "markdown",
   "metadata": {},
   "source": [
    "Building corpus for GenSim dictionary"
   ]
  },
  {
   "cell_type": "code",
   "execution_count": 16,
   "metadata": {},
   "outputs": [],
   "source": [
    "corpus = [dict.doc2bow(text) for text in term_vec]"
   ]
  },
  {
   "cell_type": "markdown",
   "metadata": {},
   "source": [
    "builing lda models for 5, 20 and 3 topics respectively and saving for recall"
   ]
  },
  {
   "cell_type": "code",
   "execution_count": 89,
   "metadata": {},
   "outputs": [],
   "source": [
    "ldamodel5 = gensim.models.ldamodel.LdaModel(corpus, num_topics = 5, id2word=dict, passes=15)\n",
    "ldamodel5.save('models/model5.gensim')"
   ]
  },
  {
   "cell_type": "code",
   "execution_count": 47,
   "metadata": {},
   "outputs": [],
   "source": [
    "ldamodel20 = gensim.models.ldamodel.LdaModel(corpus, num_topics = 20, id2word=dict, passes=15)\n",
    "ldamodel20.save('models/model20.gensim')"
   ]
  },
  {
   "cell_type": "code",
   "execution_count": 22,
   "metadata": {},
   "outputs": [],
   "source": [
    "ldamodel3 = gensim.models.ldamodel.LdaModel(corp, num_topics = 3, id2word=dict, passes=30)\n",
    "ldamodel3.save('models/model3.gensim')"
   ]
  },
  {
   "cell_type": "markdown",
   "metadata": {},
   "source": [
    "loading the model with 3 topics to visualize"
   ]
  },
  {
   "cell_type": "code",
   "execution_count": 25,
   "metadata": {},
   "outputs": [
    {
     "name": "stderr",
     "output_type": "stream",
     "text": [
      "/usr/local/anaconda3/lib/python3.5/site-packages/joblib/externals/loky/process_executor.py:700: UserWarning: A worker stopped while some jobs were given to the executor. This can be caused by a too short worker timeout or by a memory leak.\n",
      "  \"timeout or by a memory leak.\", UserWarning\n",
      "/usr/local/anaconda3/lib/python3.5/site-packages/pyLDAvis/_prepare.py:257: FutureWarning: Sorting because non-concatenation axis is not aligned. A future version\n",
      "of pandas will change to not sort by default.\n",
      "\n",
      "To accept the future behavior, pass 'sort=False'.\n",
      "\n",
      "To retain the current behavior and silence the warning, pass 'sort=True'.\n",
      "\n",
      "  return pd.concat([default_term_info] + list(topic_dfs))\n"
     ]
    }
   ],
   "source": [
    "lda = gensim.models.ldamodel.LdaModel.load('models/model3.gensim')\n",
    "lda_display = pyLDAvis.gensim.prepare(lda, corpus, dict, sort_topics=True)"
   ]
  },
  {
   "cell_type": "markdown",
   "metadata": {},
   "source": [
    "vizualizing the model inline"
   ]
  },
  {
   "cell_type": "code",
   "execution_count": 153,
   "metadata": {},
   "outputs": [
    {
     "data": {
      "text/html": [
       "\n",
       "<link rel=\"stylesheet\" type=\"text/css\" href=\"https://cdn.rawgit.com/bmabey/pyLDAvis/files/ldavis.v1.0.0.css\">\n",
       "\n",
       "\n",
       "<div id=\"ldavis_el62241123452016644325683792\"></div>\n",
       "<script type=\"text/javascript\">\n",
       "\n",
       "var ldavis_el62241123452016644325683792_data = {\"mdsDat\": {\"Freq\": [41.2574577331543, 36.017005920410156, 22.725536346435547], \"y\": [0.12429756899805448, -0.175524672988668, 0.05122710399061353], \"cluster\": [1, 1, 1], \"x\": [0.15882822517713419, 0.05118218884370726, -0.21001041402084134], \"topics\": [1, 2, 3]}, \"tinfo\": {\"Freq\": [597.0, 404.0, 547.0, 308.0, 388.0, 494.0, 333.0, 656.0, 167.0, 370.0, 221.0, 125.0, 114.0, 608.0, 105.0, 251.0, 209.0, 149.0, 119.0, 218.0, 135.0, 77.0, 77.0, 77.0, 130.0, 76.0, 73.0, 70.0, 65.0, 96.0, 221.03955078125, 135.0469970703125, 130.3593292236328, 93.2412109375, 89.93049621582031, 102.00980377197266, 86.50054931640625, 82.10600280761719, 70.5409164428711, 71.93669891357422, 67.18484497070312, 66.91606903076172, 58.29817199707031, 67.82337188720703, 56.71690368652344, 59.63808059692383, 58.809326171875, 54.350555419921875, 51.333587646484375, 47.64091110229492, 46.682777404785156, 47.01009750366211, 46.77836608886719, 46.676856994628906, 46.808860778808594, 46.311180114746094, 43.554443359375, 39.53932189941406, 39.31911849975586, 40.80604553222656, 110.517333984375, 203.7239990234375, 42.056297302246094, 196.4937744140625, 534.1729736328125, 146.33175659179688, 125.08892059326172, 100.77629089355469, 405.9850769042969, 136.17568969726562, 104.70384216308594, 440.20361328125, 204.3348388671875, 194.77854919433594, 159.16943359375, 87.03367614746094, 84.57008361816406, 82.68779754638672, 93.2791976928711, 86.21717071533203, 88.06369018554688, 75.90971374511719, 76.75382232666016, 597.0985107421875, 547.3707885742188, 332.5306396484375, 148.89361572265625, 119.20915985107422, 95.69782257080078, 70.47450256347656, 64.23196411132812, 62.76960754394531, 93.88430786132812, 61.968326568603516, 55.77167510986328, 53.998966217041016, 47.60820007324219, 50.45613098144531, 50.83470153808594, 58.39168167114258, 46.25200271606445, 41.8594856262207, 43.80471420288086, 41.11345672607422, 37.9931526184082, 40.069461822509766, 35.892677307128906, 34.370269775390625, 33.20438003540039, 53.514686584472656, 31.5380859375, 29.82741928100586, 29.342571258544922, 35.495750427246094, 456.9197692871094, 78.21630096435547, 267.4756774902344, 73.46199035644531, 89.47821807861328, 100.81915283203125, 83.59922790527344, 87.66060638427734, 115.23534393310547, 380.0731201171875, 52.956974029541016, 201.9025115966797, 121.9200439453125, 97.29939270019531, 122.20792388916016, 92.13938903808594, 70.02738189697266, 73.83494567871094, 65.43038940429688, 404.06201171875, 308.283935546875, 125.05679321289062, 105.05530548095703, 113.69879150390625, 77.00144958496094, 77.00144958496094, 76.98204040527344, 75.83875274658203, 72.79653930664062, 70.2037582397461, 64.59003448486328, 60.71515655517578, 56.72273254394531, 55.43062973022461, 54.58498001098633, 47.44681930541992, 50.525909423828125, 39.039066314697266, 37.841678619384766, 39.38578414916992, 37.32975387573242, 36.96461486816406, 38.420654296875, 37.347713470458984, 34.659019470214844, 33.65926742553711, 33.97076416015625, 31.730344772338867, 36.7144889831543, 163.55747985839844, 322.9451599121094, 152.67369079589844, 103.13777160644531, 122.40568542480469, 56.27006530761719, 41.32854461669922, 49.625, 49.022193908691406, 39.871402740478516], \"Category\": [\"Default\", \"Default\", \"Default\", \"Default\", \"Default\", \"Default\", \"Default\", \"Default\", \"Default\", \"Default\", \"Default\", \"Default\", \"Default\", \"Default\", \"Default\", \"Default\", \"Default\", \"Default\", \"Default\", \"Default\", \"Default\", \"Default\", \"Default\", \"Default\", \"Default\", \"Default\", \"Default\", \"Default\", \"Default\", \"Default\", \"Topic1\", \"Topic1\", \"Topic1\", \"Topic1\", \"Topic1\", \"Topic1\", \"Topic1\", \"Topic1\", \"Topic1\", \"Topic1\", \"Topic1\", \"Topic1\", \"Topic1\", \"Topic1\", \"Topic1\", \"Topic1\", \"Topic1\", \"Topic1\", \"Topic1\", \"Topic1\", \"Topic1\", \"Topic1\", \"Topic1\", \"Topic1\", \"Topic1\", \"Topic1\", \"Topic1\", \"Topic1\", \"Topic1\", \"Topic1\", \"Topic1\", \"Topic1\", \"Topic1\", \"Topic1\", \"Topic1\", \"Topic1\", \"Topic1\", \"Topic1\", \"Topic1\", \"Topic1\", \"Topic1\", \"Topic1\", \"Topic1\", \"Topic1\", \"Topic1\", \"Topic1\", \"Topic1\", \"Topic1\", \"Topic1\", \"Topic1\", \"Topic1\", \"Topic1\", \"Topic1\", \"Topic2\", \"Topic2\", \"Topic2\", \"Topic2\", \"Topic2\", \"Topic2\", \"Topic2\", \"Topic2\", \"Topic2\", \"Topic2\", \"Topic2\", \"Topic2\", \"Topic2\", \"Topic2\", \"Topic2\", \"Topic2\", \"Topic2\", \"Topic2\", \"Topic2\", \"Topic2\", \"Topic2\", \"Topic2\", \"Topic2\", \"Topic2\", \"Topic2\", \"Topic2\", \"Topic2\", \"Topic2\", \"Topic2\", \"Topic2\", \"Topic2\", \"Topic2\", \"Topic2\", \"Topic2\", \"Topic2\", \"Topic2\", \"Topic2\", \"Topic2\", \"Topic2\", \"Topic2\", \"Topic2\", \"Topic2\", \"Topic2\", \"Topic2\", \"Topic2\", \"Topic2\", \"Topic2\", \"Topic2\", \"Topic2\", \"Topic2\", \"Topic3\", \"Topic3\", \"Topic3\", \"Topic3\", \"Topic3\", \"Topic3\", \"Topic3\", \"Topic3\", \"Topic3\", \"Topic3\", \"Topic3\", \"Topic3\", \"Topic3\", \"Topic3\", \"Topic3\", \"Topic3\", \"Topic3\", \"Topic3\", \"Topic3\", \"Topic3\", \"Topic3\", \"Topic3\", \"Topic3\", \"Topic3\", \"Topic3\", \"Topic3\", \"Topic3\", \"Topic3\", \"Topic3\", \"Topic3\", \"Topic3\", \"Topic3\", \"Topic3\", \"Topic3\", \"Topic3\", \"Topic3\", \"Topic3\", \"Topic3\", \"Topic3\", \"Topic3\"], \"Term\": [\"pixel\", \"youtub\", \"3\", \"video\", \"like\", \"vs\", \"googl\", \"case\", \"review\", \"camera\", \"clear\", \"sale\", \"sell\", \"new\", \"foxconn\", \"via\", \"price\", \"xl\", \"stack\", \"buy\", \"around\", \"revenu\", \"q3\", \"machin\", \"40\", \"walmart\", \"hint\", \"solid\", \"man\", \"releas\", \"clear\", \"around\", \"40\", \"rayito\", \"30\", \"8\", \"gold\", \"cover\", \"7\", \"io\", \"protector\", \"wait\", \"temper\", \"6\", \"glass\", \"2018\", \"give\", \"64gb\", \"reason\", \"unlock\", \"ipad\", \"order\", \"pro\", \"batteri\", \"free\", \"drop\", \"10\", \"wireless\", \"easi\", \"256gb\", \"want\", \"price\", \"bought\", \"buy\", \"case\", \"launch\", \"screen\", \"samsung\", \"new\", \"plan\", \"use\", \"appl\", \"get\", \"phone\", \"x\", \"check\", \"plu\", \"need\", \"9\", \"one\", \"note\", \"best\", \"amp\", \"pixel\", \"3\", \"googl\", \"xl\", \"stack\", \"releas\", \"forc\", \"restart\", \"enter\", \"differ\", \"super\", \"zoom\", \"tell\", \"re\", \"power\", \"mkbhd\", \"giveaway\", \"work\", \"piec\", \"\\ud83d\\ude0d\", \"notch\", \"xsxr\", \"\\ud83d\\ude02\", \"anker\", \"accessori\", \"madebygoogl\", \"qualiti\", \"dfu\", \"3s\", \"recoveri\", \"ive\", \"vs\", \"better\", \"camera\", \"photo\", \"win\", \"look\", \"still\", \"love\", \"got\", \"appl\", \"match\", \"new\", \"get\", \"x\", \"case\", \"phone\", \"galaxi\", \"via\", \"like\", \"youtub\", \"video\", \"sale\", \"foxconn\", \"sell\", \"q3\", \"revenu\", \"machin\", \"walmart\", \"hint\", \"solid\", \"man\", \"unbox\", \"china\", \"\\u201c\", \"\\u201d\", \"zurita\", \"littl\", \"wife\", \"strong\", \"point\", \"sleep\", \"pregnant\", \"share\", \"shock\", \"small\", \"demand\", \"wallpap\", \"convers\", \"announc\", \"review\", \"like\", \"via\", \"camera\", \"appl\", \"go\", \"\\u2018\", \"galaxi\", \"phone\", \"big\"], \"loglift\": [30.0, 29.0, 28.0, 27.0, 26.0, 25.0, 24.0, 23.0, 22.0, 21.0, 20.0, 19.0, 18.0, 17.0, 16.0, 15.0, 14.0, 13.0, 12.0, 11.0, 10.0, 9.0, 8.0, 7.0, 6.0, 5.0, 4.0, 3.0, 2.0, 1.0, 0.8820000290870667, 0.8812999725341797, 0.8810999989509583, 0.8794999718666077, 0.8791999816894531, 0.8788999915122986, 0.8787000179290771, 0.8784000277519226, 0.8773000240325928, 0.8773000240325928, 0.8772000074386597, 0.8762999773025513, 0.8761000037193298, 0.8761000037193298, 0.8756999969482422, 0.8755999803543091, 0.8752999901771545, 0.8745999932289124, 0.8741999864578247, 0.8737999796867371, 0.8737000226974487, 0.8734999895095825, 0.873199999332428, 0.8730999827384949, 0.8726999759674072, 0.8725000023841858, 0.8720999956130981, 0.8716999888420105, 0.8715999722480774, 0.8715000152587891, 0.8651000261306763, 0.8572999835014343, 0.8715000152587891, 0.7809000015258789, 0.6789000034332275, 0.7519999742507935, 0.7459999918937683, 0.7702000141143799, 0.4812000095844269, 0.6528000235557556, 0.6729000210762024, 0.12380000203847885, 0.3693000078201294, 0.3402999937534332, 0.40720000863075256, 0.5975000262260437, 0.5415999889373779, 0.48429998755455017, 0.28859999775886536, 0.38690000772476196, 0.24779999256134033, 0.43619999289512634, 0.3061000108718872, 1.020300030708313, 1.0202000141143799, 1.0196000337600708, 1.017699956893921, 1.0168999433517456, 1.014799952507019, 1.013700008392334, 1.013200044631958, 1.0127999782562256, 1.0125000476837158, 1.0124000310897827, 1.0118999481201172, 1.011299967765808, 1.0104000568389893, 1.010200023651123, 1.0098999738693237, 1.009600043296814, 1.0091999769210815, 1.0089000463485718, 1.0088000297546387, 1.0087000131607056, 1.007699966430664, 1.006700038909912, 1.006600022315979, 1.00600004196167, 1.0049999952316284, 1.0048999786376953, 1.0048999786376953, 1.00409996509552, 1.0038000345230103, 1.0020999908447266, 0.9415000081062317, 0.9377999901771545, 0.6942999958992004, 0.8589000105857849, 0.7940000295639038, 0.7613000273704529, 0.8001999855041504, 0.7789000272750854, 0.6097999811172485, 0.1128000020980835, 0.8935999870300293, -0.08150000125169754, -0.011300000362098217, 0.05090000107884407, -0.6603000164031982, -0.27250000834465027, 0.029500000178813934, -0.20430000126361847, -0.7605000138282776, 1.480299949645996, 1.4797999858856201, 1.4773000478744507, 1.4765000343322754, 1.4759999513626099, 1.4745999574661255, 1.4745999574661255, 1.4745999574661255, 1.4744999408721924, 1.4740999937057495, 1.4737999439239502, 1.4730000495910645, 1.472100019454956, 1.4717999696731567, 1.4709999561309814, 1.4707000255584717, 1.4701999425888062, 1.4701999425888062, 1.4677000045776367, 1.4673000574111938, 1.4672000408172607, 1.4671000242233276, 1.4670000076293945, 1.466599941253662, 1.46589994430542, 1.465399980545044, 1.4652999639511108, 1.465000033378601, 1.4645999670028687, 1.4641000032424927, 1.455199956893921, 1.2964999675750732, 0.982699990272522, 0.20180000364780426, -0.5597000122070312, 0.7508000135421753, 1.0530999898910522, 0.14560000598430634, -0.4429999887943268, 0.8062999844551086], \"logprob\": [30.0, 29.0, 28.0, 27.0, 26.0, 25.0, 24.0, 23.0, 22.0, 21.0, 20.0, 19.0, 18.0, 17.0, 16.0, 15.0, 14.0, 13.0, 12.0, 11.0, 10.0, 9.0, 8.0, 7.0, 6.0, 5.0, 4.0, 3.0, 2.0, 1.0, -4.638400077819824, -5.131100177764893, -5.166399955749512, -5.501500129699707, -5.537700176239014, -5.411600112915039, -5.576600074768066, -5.628699779510498, -5.7804999351501465, -5.760900020599365, -5.8292999267578125, -5.8333001136779785, -5.971099853515625, -5.819799900054932, -5.998600006103516, -5.948400020599365, -5.962399959564209, -6.041299819946289, -6.098400115966797, -6.172999858856201, -6.193299770355225, -6.186299800872803, -6.191299915313721, -6.19350004196167, -6.1905999183654785, -6.201300144195557, -6.262700080871582, -6.359399795532227, -6.364999771118164, -6.327899932861328, -5.331500053405762, -4.719900131225586, -6.297699928283691, -4.756100177764893, -3.75600004196167, -5.05079984664917, -5.207699775695801, -5.423799991607666, -4.030399799346924, -5.122799873352051, -5.3856000900268555, -3.94950008392334, -4.716899871826172, -4.764800071716309, -4.966700077056885, -5.570400238037109, -5.599100112915039, -5.621600151062012, -5.501100063323975, -5.579800128936768, -5.558599948883057, -5.707200050354004, -5.696100234985352, -3.5088000297546387, -3.5957000255584717, -4.094099998474121, -4.897600173950195, -5.119999885559082, -5.339700222015381, -5.645599842071533, -5.738399982452393, -5.76140022277832, -5.358799934387207, -5.774199962615967, -5.8796000480651855, -5.911900043487549, -6.037899971008301, -5.979800224304199, -5.972300052642822, -5.833700180053711, -6.066800117492676, -6.166500091552734, -6.121099948883057, -6.184500217437744, -6.263500213623047, -6.210299968719482, -6.320300102233887, -6.363699913024902, -6.398200035095215, -5.920899868011475, -6.449699878692627, -6.50540018081665, -6.5218000411987305, -6.331500053405762, -3.776400089263916, -5.541399955749512, -4.311800003051758, -5.604100227355957, -5.406899929046631, -5.287499904632568, -5.474800109863281, -5.4274001121521, -5.153900146484375, -3.9605000019073486, -5.931399822235107, -4.593100070953369, -5.097499847412109, -5.3231000900268555, -5.095099925994873, -5.377600193023682, -5.6519999504089355, -5.598999977111816, -5.719900131225586, -3.438800096511841, -3.7093000411987305, -4.611599922180176, -4.785900115966797, -4.7067999839782715, -5.096499919891357, -5.096499919891357, -5.096799850463867, -5.111800193786621, -5.152699947357178, -5.189000129699707, -5.272299766540527, -5.334199905395508, -5.402200222015381, -5.42519998550415, -5.4405999183654785, -5.5808000564575195, -5.517899990081787, -5.7758002281188965, -5.807000160217285, -5.767000198364258, -5.8206000328063965, -5.830399990081787, -5.791800022125244, -5.820099830627441, -5.894800186157227, -5.924099922180176, -5.914899826049805, -5.983099937438965, -5.837200164794922, -4.343200206756592, -3.662899971008301, -4.412099838256836, -4.804299831390381, -4.632999897003174, -5.410200119018555, -5.718800067901611, -5.535900115966797, -5.548099994659424, -5.754700183868408], \"Total\": [597.0, 404.0, 547.0, 308.0, 388.0, 494.0, 333.0, 656.0, 167.0, 370.0, 221.0, 125.0, 114.0, 608.0, 105.0, 251.0, 209.0, 149.0, 119.0, 218.0, 135.0, 77.0, 77.0, 77.0, 130.0, 76.0, 73.0, 70.0, 65.0, 96.0, 221.77305603027344, 135.5965576171875, 130.90878295898438, 93.78399658203125, 90.47982788085938, 102.66924285888672, 87.07918548583984, 82.67373657226562, 71.10672760009766, 72.5203857421875, 67.73136901855469, 67.52486419677734, 58.8392219543457, 68.4544448852539, 57.26849365234375, 60.21880340576172, 59.402008056640625, 54.93637466430664, 51.91109848022461, 48.191593170166016, 47.22772216796875, 47.57184600830078, 47.35165786743164, 47.25312042236328, 47.40191650390625, 46.907257080078125, 44.13486862182617, 40.081172943115234, 39.8622932434082, 41.3736572265625, 112.78219604492188, 209.52621459960938, 42.6426887512207, 218.1208038330078, 656.6692504882812, 167.20828247070312, 143.797607421875, 113.07205200195312, 608.1939697265625, 171.8284912109375, 129.49249267578125, 942.6824340820312, 342.3473205566406, 335.94012451171875, 256.7479248046875, 116.06120300292969, 119.25774383544922, 123.48799133300781, 169.40625, 141.9255828857422, 166.59901428222656, 118.94744873046875, 136.97756958007812, 597.6193237304688, 547.9046020507812, 333.0542297363281, 149.41781616210938, 119.72167205810547, 96.3093032836914, 71.00435638427734, 64.74774932861328, 63.299713134765625, 94.70431518554688, 62.51671600341797, 56.291831970214844, 54.53647232055664, 48.12523651123047, 51.013824462890625, 51.409881591796875, 59.074623107910156, 46.80821228027344, 42.376338958740234, 44.348228454589844, 41.63097381591797, 38.50966262817383, 40.652957916259766, 36.41796875, 34.89495086669922, 33.74714279174805, 54.39359664916992, 32.05685806274414, 30.340190887451172, 29.856449127197266, 36.18009567260742, 494.8018493652344, 85.01905059814453, 370.89422607421875, 86.40755462646484, 112.29890441894531, 130.73974609375, 104.27593994140625, 111.69171905517578, 173.8715057373047, 942.6824340820312, 60.166046142578125, 608.1939697265625, 342.3473205566406, 256.7479248046875, 656.6692504882812, 335.94012451171875, 188.78311157226562, 251.4542999267578, 388.65838623046875, 404.6239318847656, 308.8550109863281, 125.60675048828125, 105.60163879394531, 114.34561157226562, 77.54811096191406, 77.54811096191406, 77.53263854980469, 76.38736724853516, 73.35266876220703, 70.75662231445312, 65.15249633789062, 61.2972412109375, 57.28619384765625, 56.02429962158203, 55.186641693115234, 47.992408752441406, 51.10867691040039, 39.587799072265625, 38.39069747924805, 39.960052490234375, 37.87724304199219, 37.51029586791992, 39.00593948364258, 37.94150924682617, 35.227386474609375, 34.21433639526367, 34.54100799560547, 32.27707290649414, 37.364288330078125, 167.94967651367188, 388.65838623046875, 251.4542999267578, 370.89422607421875, 942.6824340820312, 116.8691635131836, 63.443424224853516, 188.78311157226562, 335.94012451171875, 78.33822631835938]}, \"lambda.step\": 0.01, \"topic.order\": [1, 2, 3], \"R\": 30, \"plot.opts\": {\"xlab\": \"PC1\", \"ylab\": \"PC2\"}, \"token.table\": {\"Topic\": [1, 1, 1, 2, 1, 2, 1, 1, 1, 1, 1, 1, 2, 3, 2, 1, 2, 3, 2, 3, 1, 2, 3, 1, 1, 1, 2, 3, 2, 3, 1, 2, 3, 1, 1, 2, 2, 3, 1, 2, 1, 3, 3, 1, 3, 1, 3, 2, 2, 3, 1, 1, 2, 2, 3, 1, 1, 2, 3, 1, 2, 3, 1, 2, 1, 1, 2, 3, 1, 2, 1, 2, 3, 1, 1, 2, 1, 3, 2, 3, 3, 1, 2, 3, 1, 2, 3, 2, 3, 2, 3, 2, 1, 2, 1, 2, 2, 1, 2, 3, 1, 2, 1, 1, 2, 3, 1, 2, 3, 2, 2, 1, 3, 1, 2, 3, 2, 3, 1, 3, 1, 1, 3, 1, 2, 1, 2, 1, 2, 2, 2, 3, 2, 3, 3, 1, 3, 1, 2, 3, 3, 3, 3, 3, 3, 2, 1, 2, 3, 2, 2, 1, 3, 1, 1, 2, 1, 2, 3, 3, 2, 3, 1, 3, 3, 1, 2, 3, 2, 3, 1, 2, 1, 2, 2, 2, 3, 2, 3, 2, 3, 3, 3, 2, 2], \"Freq\": [0.9969441890716553, 0.9963665008544922, 0.9909687042236328, 0.9983489513397217, 0.994696855545044, 0.9887874722480774, 0.993057906627655, 0.9933613538742065, 0.982955276966095, 0.9984990358352661, 0.9934815764427185, 0.5489761829376221, 0.25973066687583923, 0.18889503180980682, 0.974353015422821, 0.5621358156204224, 0.25551629066467285, 0.18251162767410278, 0.988523006439209, 0.9902503490447998, 0.46675315499305725, 0.4031049907207489, 0.12941792607307434, 0.9956005215644836, 0.9946433305740356, 0.6389375925064087, 0.2522122263908386, 0.10929196327924728, 0.9174414277076721, 0.0823344886302948, 0.2042425572872162, 0.2935986816883087, 0.5106064081192017, 0.9849284887313843, 0.8985846042633057, 0.09627692401409149, 0.7198817729949951, 0.27770721912384033, 0.813194751739502, 0.18578606843948364, 0.7496045231819153, 0.24986816942691803, 0.9950041174888611, 0.9965142011642456, 0.991415798664093, 0.9918506741523743, 0.9937354922294617, 0.9982263445854187, 0.992563009262085, 0.01055918075144291, 0.9806584715843201, 0.9783682227134705, 0.9952651858329773, 0.985854983329773, 0.9943027496337891, 0.9915211200714111, 0.36549878120422363, 0.370795875787735, 0.26485419273376465, 0.5958860516548157, 0.3563632369041443, 0.04673616215586662, 0.9932324290275574, 0.9818090796470642, 0.9953116774559021, 0.22247099876403809, 0.2994801998138428, 0.4791683256626129, 0.9990906715393066, 0.9998371601104736, 0.3335796594619751, 0.6614079475402832, 0.9951921701431274, 0.9928242564201355, 0.99517822265625, 0.9673827290534973, 0.8731625080108643, 0.12559185922145844, 0.16724199056625366, 0.8310640454292297, 0.9978736042976379, 0.1300293207168579, 0.7725270986557007, 0.09943418204784393, 0.2148771584033966, 0.787882924079895, 0.9931301474571228, 0.9778605699539185, 0.9976593852043152, 0.8808954954147339, 0.11634469032287598, 0.9920271635055542, 0.6721301078796387, 0.33201608061790466, 0.6675502061843872, 0.33213087916374207, 0.9848436713218689, 0.5282143950462341, 0.2701096534729004, 0.20408284664154053, 0.6059513688087463, 0.3875270187854767, 0.9879792928695679, 0.5804606080055237, 0.27385833859443665, 0.14585933089256287, 0.046292249113321304, 0.8448335528373718, 0.10415755957365036, 0.9911191463470459, 0.9989636540412903, 0.791486918926239, 0.2036914825439453, 0.7127419710159302, 0.28509679436683655, 0.9759746789932251, 0.9801265001296997, 0.9863958358764648, 0.9736251831054688, 0.02386336214840412, 0.9925734996795654, 0.9892019033432007, 0.9929319620132446, 0.01838451623916626, 0.9927639365196228, 0.9916403889656067, 0.9973977208137512, 0.9824488759040833, 0.9713144302368164, 0.9967884421348572, 0.988451361656189, 0.9929319620132446, 0.023816658183932304, 0.9764829874038696, 0.995169460773468, 0.8932357430458069, 0.10612702369689941, 0.8692773580551147, 0.12517593801021576, 0.9969775080680847, 0.9742106199264526, 0.975185215473175, 0.9768398404121399, 0.9935451745986938, 0.9893066883087158, 0.9939720630645752, 0.19179879128932953, 0.8055549263954163, 0.9898231029510498, 0.9917347431182861, 0.9901630282402039, 0.9857370257377625, 0.9951508045196533, 0.9960243701934814, 0.8108578324317932, 0.19306138157844543, 0.09942164272069931, 0.2942880690097809, 0.6084604859352112, 0.997231662273407, 0.9236020445823669, 0.07679841667413712, 0.9922270774841309, 0.9843372106552124, 0.9949288964271545, 0.9841979146003723, 0.017733294516801834, 0.985152006149292, 0.7925277948379517, 0.20481054484844208, 0.9979748129844666, 0.9827335476875305, 0.619284451007843, 0.37780246138572693, 0.9972037076950073, 0.9867653250694275, 0.9984579682350159, 0.9948157072067261, 0.9793215394020081, 0.3467656373977661, 0.6462450623512268, 0.9817168712615967, 0.9966179728507996, 0.9839382171630859, 0.9921478629112244], \"Term\": [\"10\", \"2018\", \"256gb\", \"3\", \"30\", \"3s\", \"40\", \"6\", \"64gb\", \"7\", \"8\", \"9\", \"9\", \"9\", \"accessori\", \"amp\", \"amp\", \"amp\", \"anker\", \"announc\", \"appl\", \"appl\", \"appl\", \"around\", \"batteri\", \"best\", \"best\", \"best\", \"better\", \"better\", \"big\", \"big\", \"big\", \"bought\", \"buy\", \"buy\", \"camera\", \"camera\", \"case\", \"case\", \"check\", \"check\", \"china\", \"clear\", \"convers\", \"cover\", \"demand\", \"dfu\", \"differ\", \"differ\", \"drop\", \"easi\", \"enter\", \"forc\", \"foxconn\", \"free\", \"galaxi\", \"galaxi\", \"galaxi\", \"get\", \"get\", \"get\", \"give\", \"giveaway\", \"glass\", \"go\", \"go\", \"go\", \"gold\", \"googl\", \"got\", \"got\", \"hint\", \"io\", \"ipad\", \"ive\", \"launch\", \"launch\", \"like\", \"like\", \"littl\", \"look\", \"look\", \"look\", \"love\", \"love\", \"machin\", \"madebygoogl\", \"man\", \"match\", \"match\", \"mkbhd\", \"need\", \"need\", \"new\", \"new\", \"notch\", \"note\", \"note\", \"note\", \"one\", \"one\", \"order\", \"phone\", \"phone\", \"phone\", \"photo\", \"photo\", \"photo\", \"piec\", \"pixel\", \"plan\", \"plan\", \"plu\", \"plu\", \"point\", \"power\", \"pregnant\", \"price\", \"price\", \"pro\", \"protector\", \"q3\", \"qualiti\", \"qualiti\", \"rayito\", \"re\", \"reason\", \"recoveri\", \"releas\", \"restart\", \"revenu\", \"review\", \"review\", \"sale\", \"samsung\", \"samsung\", \"screen\", \"screen\", \"sell\", \"share\", \"shock\", \"sleep\", \"small\", \"solid\", \"stack\", \"still\", \"still\", \"strong\", \"super\", \"tell\", \"temper\", \"unbox\", \"unlock\", \"use\", \"use\", \"via\", \"via\", \"via\", \"video\", \"vs\", \"vs\", \"wait\", \"wallpap\", \"walmart\", \"want\", \"want\", \"wife\", \"win\", \"win\", \"wireless\", \"work\", \"x\", \"x\", \"xl\", \"xsxr\", \"youtub\", \"zoom\", \"zurita\", \"\\u2018\", \"\\u2018\", \"\\u201c\", \"\\u201d\", \"\\ud83d\\ude02\", \"\\ud83d\\ude0d\"]}};\n",
       "\n",
       "function LDAvis_load_lib(url, callback){\n",
       "  var s = document.createElement('script');\n",
       "  s.src = url;\n",
       "  s.async = true;\n",
       "  s.onreadystatechange = s.onload = callback;\n",
       "  s.onerror = function(){console.warn(\"failed to load library \" + url);};\n",
       "  document.getElementsByTagName(\"head\")[0].appendChild(s);\n",
       "}\n",
       "\n",
       "if(typeof(LDAvis) !== \"undefined\"){\n",
       "   // already loaded: just create the visualization\n",
       "   !function(LDAvis){\n",
       "       new LDAvis(\"#\" + \"ldavis_el62241123452016644325683792\", ldavis_el62241123452016644325683792_data);\n",
       "   }(LDAvis);\n",
       "}else if(typeof define === \"function\" && define.amd){\n",
       "   // require.js is available: use it to load d3/LDAvis\n",
       "   require.config({paths: {d3: \"https://cdnjs.cloudflare.com/ajax/libs/d3/3.5.5/d3.min\"}});\n",
       "   require([\"d3\"], function(d3){\n",
       "      window.d3 = d3;\n",
       "      LDAvis_load_lib(\"https://cdn.rawgit.com/bmabey/pyLDAvis/files/ldavis.v1.0.0.js\", function(){\n",
       "        new LDAvis(\"#\" + \"ldavis_el62241123452016644325683792\", ldavis_el62241123452016644325683792_data);\n",
       "      });\n",
       "    });\n",
       "}else{\n",
       "    // require.js not available: dynamically load d3 & LDAvis\n",
       "    LDAvis_load_lib(\"https://cdnjs.cloudflare.com/ajax/libs/d3/3.5.5/d3.min.js\", function(){\n",
       "         LDAvis_load_lib(\"https://cdn.rawgit.com/bmabey/pyLDAvis/files/ldavis.v1.0.0.js\", function(){\n",
       "                 new LDAvis(\"#\" + \"ldavis_el62241123452016644325683792\", ldavis_el62241123452016644325683792_data);\n",
       "            })\n",
       "         });\n",
       "}\n",
       "</script>"
      ],
      "text/plain": [
       "<IPython.core.display.HTML object>"
      ]
     },
     "execution_count": 153,
     "metadata": {},
     "output_type": "execute_result"
    }
   ],
   "source": [
    "pyLDAvis.display(lda_display)"
   ]
  },
  {
   "cell_type": "markdown",
   "metadata": {},
   "source": [
    "sending the model to its own webpage for visualization"
   ]
  },
  {
   "cell_type": "code",
   "execution_count": 59,
   "metadata": {},
   "outputs": [
    {
     "name": "stdout",
     "output_type": "stream",
     "text": [
      "\n",
      "Note: if you're in the IPython notebook, pyLDAvis.show() is not the best command\n",
      "      to use. Consider using pyLDAvis.display(), or pyLDAvis.enable_notebook().\n",
      "      See more information at http://pyLDAvis.github.io/quickstart.html .\n",
      "\n",
      "You must interrupt the kernel to end this command\n",
      "\n",
      "Serving to http://127.0.0.1:8889/    [Ctrl-C to exit]\n"
     ]
    },
    {
     "name": "stderr",
     "output_type": "stream",
     "text": [
      "127.0.0.1 - - [21/Oct/2018 17:44:29] \"GET / HTTP/1.1\" 200 -\n",
      "127.0.0.1 - - [21/Oct/2018 17:44:29] \"GET /LDAvis.css HTTP/1.1\" 200 -\n",
      "127.0.0.1 - - [21/Oct/2018 17:44:30] \"GET /d3.js HTTP/1.1\" 200 -\n",
      "127.0.0.1 - - [21/Oct/2018 17:44:30] \"GET /LDAvis.js HTTP/1.1\" 200 -\n",
      "127.0.0.1 - - [21/Oct/2018 17:44:30] code 404, message Not Found\n",
      "127.0.0.1 - - [21/Oct/2018 17:44:30] \"GET /favicon.ico HTTP/1.1\" 404 -\n"
     ]
    },
    {
     "name": "stdout",
     "output_type": "stream",
     "text": [
      "\n",
      "stopping Server...\n"
     ]
    }
   ],
   "source": [
    "pyLDAvis.show(lda_display)"
   ]
  },
  {
   "cell_type": "markdown",
   "metadata": {},
   "source": [
    "Building a list of top 30 terms from each topic to do sentiment analysis"
   ]
  },
  {
   "cell_type": "markdown",
   "metadata": {},
   "source": [
    "Topic 1"
   ]
  },
  {
   "cell_type": "code",
   "execution_count": 137,
   "metadata": {},
   "outputs": [],
   "source": [
    "topics1 = lda.show_topic(topicid=0, topn=30)\n",
    "topic1_terms = []\n",
    "\n",
    "for t in range(0, len(topics1)):\n",
    "    topic1_terms.append(topics1[t][0])"
   ]
  },
  {
   "cell_type": "markdown",
   "metadata": {},
   "source": [
    "Topic 2"
   ]
  },
  {
   "cell_type": "code",
   "execution_count": 138,
   "metadata": {},
   "outputs": [],
   "source": [
    "topics2 = lda.show_topic(topicid=1, topn=30)\n",
    "topic2_terms = []\n",
    "\n",
    "for t in range(0, len(topics2)):\n",
    "    topic2_terms.append(topics2[t][0])"
   ]
  },
  {
   "cell_type": "markdown",
   "metadata": {},
   "source": [
    "Topic 3"
   ]
  },
  {
   "cell_type": "code",
   "execution_count": 139,
   "metadata": {},
   "outputs": [],
   "source": [
    "topics3 = lda.show_topic(topicid=2, topn=30)\n",
    "topic3_terms = []\n",
    "\n",
    "for t in range(0, len(topics3)):\n",
    "    topic3_terms.append(topics3[t][0])"
   ]
  },
  {
   "cell_type": "code",
   "execution_count": 140,
   "metadata": {},
   "outputs": [
    {
     "name": "stdout",
     "output_type": "stream",
     "text": [
      "topic 1\n",
      "['case', 'appl', 'new', 'clear', 'get', 'price', 'buy', 'phone', 'x', 'launch', 'plan', 'around', '40', 'screen', 'want', 'use', '8', 'samsung', '9', 'rayito', '30', 'note', 'check', 'gold', 'one', 'plu', 'need', 'cover', 'amp', 'best']\n",
      "topic 2\n",
      "['pixel', '3', 'vs', 'appl', 'googl', 'camera', 'new', 'xl', 'case', 'get', 'stack', 'got', 'look', 'x', 'releas', 'differ', 'phone', 'win', 'love', 'still', 'better', 'via', 'photo', 'forc', 'galaxi', 'like', 'restart', 'enter', 'super', 'giveaway']\n",
      "topic 3\n",
      "['youtub', 'like', 'video', 'review', 'via', 'sale', 'appl', 'sell', 'foxconn', 'camera', 'q3', 'revenu', 'machin', 'walmart', 'hint', 'solid', 'man', 'unbox', 'china', 'go', '“', '”', 'littl', 'galaxi', 'phone', 'zurita', '‘', 'big', 'point', 'wife']\n"
     ]
    }
   ],
   "source": [
    "print('topic 1')\n",
    "print(topic1_terms)\n",
    "print('topic 2')\n",
    "print(topic2_terms)\n",
    "print('topic 3')\n",
    "print(topic3_terms)"
   ]
  },
  {
   "cell_type": "markdown",
   "metadata": {},
   "source": [
    "Getting the sentiment of the top 30 topic terms"
   ]
  },
  {
   "cell_type": "code",
   "execution_count": 141,
   "metadata": {},
   "outputs": [],
   "source": [
    "arousal1 = []\n",
    "valence1 = []\n",
    "\n",
    "for i in topic1_terms:\n",
    "    sent = sentiment.sentiment(i)\n",
    "    arousal1.append(sent['arousal'])\n",
    "    valence1.append(sent['valence'])"
   ]
  },
  {
   "cell_type": "code",
   "execution_count": 142,
   "metadata": {},
   "outputs": [
    {
     "name": "stdout",
     "output_type": "stream",
     "text": [
      "Average arousal for Topic 1 is 2.599666666666667\n",
      "Average valence Topic 1 is 3.7253333333333334\n"
     ]
    }
   ],
   "source": [
    "avg_a1 = stat.mean(arousal1)\n",
    "avg_v1 = stat.mean(valence1)\n",
    "print(\"Average arousal for Topic 1 is\", avg_a1)\n",
    "print(\"Average valence Topic 1 is\", avg_v1)\n"
   ]
  },
  {
   "cell_type": "markdown",
   "metadata": {},
   "source": [
    "Getting the sentiment of the top 30 topic terms"
   ]
  },
  {
   "cell_type": "code",
   "execution_count": 143,
   "metadata": {},
   "outputs": [],
   "source": [
    "arousal2 = []\n",
    "valence2 = []\n",
    "\n",
    "for i in topic2_terms:\n",
    "    sent = sentiment.sentiment(i)\n",
    "    arousal2.append(sent['arousal'])\n",
    "    valence2.append(sent['valence'])"
   ]
  },
  {
   "cell_type": "code",
   "execution_count": 144,
   "metadata": {},
   "outputs": [
    {
     "name": "stdout",
     "output_type": "stream",
     "text": [
      "Average arousal for Topic 2 is 3.2476666666666665\n",
      "Average valence Topic 2 is 4.242\n"
     ]
    }
   ],
   "source": [
    "avg_a2 = stat.mean(arousal2)\n",
    "avg_v2= stat.mean(valence2)\n",
    "print(\"Average arousal for Topic 2 is\", avg_a2)\n",
    "print(\"Average valence Topic 2 is\", avg_v2)\n"
   ]
  },
  {
   "cell_type": "markdown",
   "metadata": {},
   "source": [
    "Need to plot sentiment"
   ]
  },
  {
   "cell_type": "markdown",
   "metadata": {},
   "source": [
    "Getting the sentiment of the top 100 topic terms"
   ]
  },
  {
   "cell_type": "code",
   "execution_count": 145,
   "metadata": {},
   "outputs": [],
   "source": [
    "arousal3 = []\n",
    "valence3 = []\n",
    "\n",
    "for i in topic3_terms:\n",
    "    sent = sentiment.sentiment(i)\n",
    "    arousal3.append(sent['arousal'])\n",
    "    valence3.append(sent['valence'])"
   ]
  },
  {
   "cell_type": "code",
   "execution_count": 146,
   "metadata": {},
   "outputs": [
    {
     "name": "stdout",
     "output_type": "stream",
     "text": [
      "Average arousal for Topic 3 is 2.578666666666667\n",
      "Average valence Topic 3 is 3.517\n"
     ]
    }
   ],
   "source": [
    "avg_a3 = stat.mean(arousal3)\n",
    "avg_v3 = stat.mean(valence3)\n",
    "print(\"Average arousal for Topic 3 is\", avg_a3)\n",
    "print(\"Average valence Topic 3 is\", avg_v3)\n"
   ]
  },
  {
   "cell_type": "markdown",
   "metadata": {},
   "source": [
    "seeing if its worth vizualizing the topic sentiment"
   ]
  },
  {
   "cell_type": "code",
   "execution_count": 108,
   "metadata": {},
   "outputs": [],
   "source": [
    "arousal = [avg_a1, avg_a2, avg_a3]\n",
    "valence = [avg_a1, avg_a2, avg_a3]"
   ]
  },
  {
   "cell_type": "code",
   "execution_count": 147,
   "metadata": {},
   "outputs": [
    {
     "data": {
      "image/png": "[encoded data removed]",
      "text/plain": [
       "<Figure size 1080x864 with 1 Axes>"
      ]
     },
     "metadata": {},
     "output_type": "display_data"
    }
   ],
   "source": [
    "z = 4.5\n",
    "\n",
    "fig,ax = plt.subplots(figsize=(15,12))\n",
    "ax.set_xlim(0,9)\n",
    "ax.set_ylim(0,9)\n",
    "\n",
    "ax.scatter(arousal, valence, marker='o', s=10000, c='#0A87A1', edgecolors='', lw=1)\n",
    "\n",
    "ax.axvline(z,color = 'grey',linestyle='dashed',lw=2)\n",
    "ax.axhline(z,color = 'grey',linestyle='dashed',lw=2)\n",
    "\n",
    "ax.fill_between([0, z],0,z, alpha=0.3, color='#80BFB7')\n",
    "ax.fill_between([z, 9], 0, z, alpha=0.3, color='#D2EBD5')  \n",
    "ax.fill_between([0, z], z, 9, alpha=0.3, color='#D2EBD5') \n",
    "ax.fill_between([z, 9], z, 9, alpha=0.3, color='#0A87A1')  \n",
    "\n",
    "plt.ylabel('Valence Scale - Low to High Pleasure', fontsize=30,labelpad=30, color='#0A87A1')\n",
    "plt.xlabel('Arousal Scale - Low to High Excitement', fontsize=30,labelpad=30, color='#0A87A1')\n",
    "#plt.title('Sentiment Analysis of iPhone Tweets', fontsize=40, pad=30, color='#0A87A1')\n",
    "plt.show()\n",
    "\n",
    "topics = ['1', '2', '3']\n",
    "\n",
    "for i, txt in enumerate(topics):\n",
    "    ax.annotate(str(txt), (arousal[i], valence[i]))"
   ]
  }
 ],
 "metadata": {
  "kernelspec": {
   "display_name": "Python 3",
   "language": "python",
   "name": "python3"
  },
  "language_info": {
   "codemirror_mode": {
    "name": "ipython",
    "version": 3
   },
   "file_extension": ".py",
   "mimetype": "text/x-python",
   "name": "python",
   "nbconvert_exporter": "python",
   "pygments_lexer": "ipython3",
   "version": "3.5.5"
  }
 },
 "nbformat": 4,
 "nbformat_minor": 2
}
