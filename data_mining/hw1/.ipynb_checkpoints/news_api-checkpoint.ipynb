{
 "cells": [
  {
   "cell_type": "code",
   "execution_count": 1,
   "metadata": {},
   "outputs": [],
   "source": [
    "import requests"
   ]
  },
  {
   "cell_type": "code",
   "execution_count": 34,
   "metadata": {},
   "outputs": [
    {
     "name": "stdout",
     "output_type": "stream",
     "text": [
      "{'articles': [{'urlToImage': 'https://i.kinja-img.com/gawker-media/image/upload/s--om4FEeyQ--/c_fill,fl_progressive,g_center,h_900,q_80,w_1600/kkwcz9nbdizak0t5ri89.png', 'source': {'name': 'Lifehacker.com', 'id': None}, 'author': 'David Murphy', 'url': 'https://lifehacker.com/how-to-edit-your-photos-depth-of-field-without-an-iphon-1829266560', 'publishedAt': '2018-09-24T15:00:00Z', 'content': 'iOS: If all your friends own a new iPhone XS or iPhone XS Max, which contain that much-improved neural engine that Apple likes to talk about, youre probably jealous that you cant edit the bokeh on your photos after the fact on your older iPhone. You probably … [+1502 chars]', 'title': \"How to Edit Your Photos' Depth of Field Without an iPhone XS\", 'description': 'iOS: If all your friends own a new iPhone XS or iPhone XS Max, which contain that much-improved neural engine that Apple likes to talk about, you’re probably jealous that you can’t edit the bokeh on your photos after the fact on your older iPhone. Read more...'}, {'urlToImage': 'https://i.kinja-img.com/gawker-media/image/upload/s--fVgp8Rp_--/c_fill,fl_progressive,g_center,h_900,q_80,w_1600/kprslvfxvm8mhclsbtql.jpg', 'source': {'name': 'Lifehacker.com', 'id': None}, 'author': 'Emily Long', 'url': 'https://lifehacker.com/how-to-fix-your-iphone-xs-charging-problems-1829451883', 'publishedAt': '2018-10-02T16:30:00Z', 'content': 'The iPhone XS and XS Max woes continue: In addition to cellular and wifi connectivity issues, some users are reporting charging problems with their devicesmainly when their iPhones screens are turned off. When they go to plug their devices in to give them som… [+884 chars]', 'title': 'How to Fix Your iPhone XS Charging Problems', 'description': 'The iPhone XS and XS Max woes continue: In addition to cellular and wifi connectivity issues, some users are reporting charging problems with their devices—mainly when their iPhones’ screens are turned off. Read more...'}, {'urlToImage': 'https://i.kinja-img.com/gawker-media/image/upload/s--qaj0N1Dz--/c_fill,fl_progressive,g_center,h_900,q_80,w_1600/b0sioo4lntbwf9gxn7pe.png', 'source': {'name': 'Lifehacker.com', 'id': None}, 'author': 'Emily Long', 'url': 'https://lifehacker.com/how-to-fix-connectivity-issues-on-your-iphone-xs-1829340414', 'publishedAt': '2018-09-27T13:30:00Z', 'content': 'Few things are more frustrating than slow data speeds, especially on brand-new devices that are supposed to outperform earlier versions by a lot. Unfortunately, since the iPhone XS and XS Max hit stores last Friday, users have reported wifi and cellular conne… [+1102 chars]', 'title': 'How to Fix Connectivity Issues on Your iPhone XS', 'description': 'Few things are more frustrating than slow data speeds, especially on brand-new devices that are supposed to outperform earlier versions by a lot. Unfortunately, since the iPhone XS and XS Max hit stores last Friday, users have reported wifi and cellular conne…'}, {'urlToImage': 'https://i.kinja-img.com/gawker-media/image/upload/s--1lqe-2i6--/c_fill,fl_progressive,g_center,h_900,q_80,w_1600/jkofvsznqoi7ry0vpay9.png', 'source': {'name': 'Lifehacker.com', 'id': None}, 'author': 'Brendan Hesse', 'url': 'https://lifehacker.com/how-to-find-hdr-content-on-youtube-1829374364', 'publishedAt': '2018-09-28T15:30:00Z', 'content': 'The iPhone XS and XS Max are the latest devices to support High Dynamic Range (HDR) videos on Youtube, which is great news for those who own either. If youre unfamiliar with HDR, its a video format with an expanded contrast ratio that makes colors more accura… [+6173 chars]', 'title': 'How to Find HDR Content on YouTube', 'description': 'The iPhone XS and XS Max are the latest devices to support High Dynamic Range (HDR) videos on Youtube, which is great news for those who own either. If you’re unfamiliar with HDR, it’s a video format with an expanded contrast ratio that makes colors more accu…'}, {'urlToImage': 'https://i.kinja-img.com/gawker-media/image/upload/s--jMx186-w--/c_fill,fl_progressive,g_center,h_900,q_80,w_1600/hysz9bub9tcd8qxwx4zw.png', 'source': {'name': 'Lifehacker.com', 'id': None}, 'author': 'Mike Epstein', 'url': 'https://lifehacker.com/the-tech-decisions-that-people-love-to-fight-over-1829142215', 'publishedAt': '2018-09-24T14:30:00Z', 'content': 'The identity politics of tech are real. We become obsessed with the devices that power our lives, and they can drive us to heated argumentshowever preposterouswith anyone who loves a competing product, platform, or service. Its frighteningly easy to filter yo… [+11527 chars]', 'title': 'The Tech Decisions That People Love to Fight Over', 'description': 'The identity politics of tech are real. We become obsessed with the devices that power our lives, and they can drive us to heated arguments—however preposterous—with anyone who loves a competing product, platform, or service. Read more...'}, {'urlToImage': 'https://o.aolcdn.com/images/dims?thumbnail=1200%2C630&quality=80&image_uri=https%3A%2F%2Fs.aolcdn.com%2Fhss%2Fstorage%2Fmidas%2F5c385bbde24e8d4d612e43ccdb2f2546%2F206695385%2Fc88f3efb1d56b9dde456324e51273a35.jpg&client=amp-blogside-v2&signature=f5fef5a4d7ed7822dfb7da9bcd23994674a4af95', 'source': {'name': 'Engadget', 'id': 'engadget'}, 'author': 'Saqib Shah', 'url': 'https://www.engadget.com/2018/09/27/nintendo-dragalia-lost-arrives-mobile/', 'publishedAt': '2018-09-27T11:19:00Z', 'content': 'As a little thank-you gift for reaching 1 million pre-registered users, Cygames is giving players 2,500 wyrmite (one of two in-game currencies) when they log in. Meanwhile, iPhone Xs and iPhone Xs Max owners are being warned of an issue on some devices that s… [+342 chars]', 'title': 'Nintendo’s gacha RPG ‘Dragalia Lost’ arrives on mobiles', 'description': \"Nintendo's new mobile game Dragalia Lost has landed on iOS and Android in the US, Japan, Hong Kong, Taiwan and Macau. The game boasts all the hallmarks of a Japanese RPG made by gacha specialists Cygames : turn-based action (check), anime-style characters (ch…\"}, {'urlToImage': 'https://media.wired.com/photos/5ba586ac91b99b2d21c6f723/191:100/pass/Samsung-QLED-Q7-TV-SOURCE-Samsung.jpg', 'source': {'name': 'Wired', 'id': 'wired'}, 'author': 'Wired Staff', 'url': 'https://www.wired.com/story/best-weekend-tech-deals-09-22-2018/', 'publishedAt': '2018-09-22T12:00:00Z', 'content': 'This week, Sony revealed a new miniature PlayStation, Nintendo launched its online service, a bundle of Apple products started shipping, and Amazon put its Kindles and other top devices on sale as it showed off a heap of new products. With the help of TechBar… [+2636 chars]', 'title': '20 Best Weekend Tech Deals: Apple, Amazon, Samsung, Sony', 'description': 'The PlayStation Classic, Samsung QLED TVs, Apple deals, and Amazon Devices are worth a look this week.'}, {'urlToImage': 'https://cdn.vox-cdn.com/thumbor/Y3ClECn0FhZrXVeo9tTk02SUuI4=/0x146:2040x1214/fit-in/1200x630/cdn.vox-cdn.com/uploads/chorus_asset/file/13106711/jbareham_180917_2948_0327.jpg', 'source': {'name': 'The Verge', 'id': 'the-verge'}, 'author': 'Dami Lee', 'url': 'https://www.theverge.com/2018/10/1/17924252/apple-iphone-xs-charging-issues-chargegate', 'publishedAt': '2018-10-01T18:18:46Z', 'content': 'Some new iPhone XS and XS Max buyers have reported poor cellular reception with Apple’s latest phones, and now there’s another issue that might result in you waking up with an uncharged device in the morning. Dozens of users have reported charging issues with… [+1258 chars]', 'title': 'Some iPhone XS and XS Max devices are experiencing charging issues', 'description': 'Several owners of iPhone XS and XS Max devices have reported issues with charging their phones. The problems have been documented on the YouTube channel Unbox Therapy, and appear to be fixed in an iOS 12.1 beta update.'}, {'urlToImage': 'https://cdn.vox-cdn.com/thumbor/ri8WFWMqTBxSUgmWbhjST772MA0=/0x337:2000x1384/fit-in/1200x630/cdn.vox-cdn.com/uploads/chorus_asset/file/13126049/Echo_Show__Entertainment.jpg', 'source': {'name': 'The Verge', 'id': 'the-verge'}, 'author': 'Cameron Faulkner', 'url': 'https://www.theverge.com/good-deals/2018/9/22/17887970/amazon-echo-dot-show-preorders-this-week-best-deals-discount', 'publishedAt': '2018-09-22T15:00:02Z', 'content': 'Last week was Apple’s time to shine with the introduction of the iPhone XS and XS Max and Apple Watch 4, but the tail end of this week was all about Amazon. It announced more than 10 products at its hardware event in Seattle, consisting of a few redesigned po… [+2012 chars]', 'title': 'Amazon’s new device preorders dominate this week’s best deals', 'description': 'Amazon unveiled a bunch of new products at its Seattle headquarters, but there are a bunch of good sales going on that gamers should pay attention to.'}, {'urlToImage': 'https://cdn.vox-cdn.com/thumbor/lMztJbRn7N5ddPsexfJb2pg_WGM=/0x48:640x383/fit-in/1200x630/cdn.vox-cdn.com/assets/1367553/ebay-redesign.jpg', 'source': {'name': 'The Verge', 'id': 'the-verge'}, 'author': 'Dami Lee', 'url': 'https://www.theverge.com/2018/9/27/17911090/ebay-red-pocket-mobile-wireless-plans-secondhand-used-phones', 'publishedAt': '2018-09-27T19:35:50Z', 'content': 'With eBay being one of the biggest marketplaces to buy and sell used phones, it makes sense that the site is now offering prepaid wireless plans as an add-on option in the item listing. A checkbox underneath the “Add to cart” button offers a 30-day unlimited … [+927 chars]', 'title': 'eBay is now selling wireless plans with secondhand phones', 'description': 'eBay is now selling 30-day Unlimited wireless plans from Red Pocket Mobile on purchases of secondhand phones. Buyers will have the option to upgrade to 360-day plans.'}, {'urlToImage': 'https://cdn.vox-cdn.com/thumbor/M4yvQuFXb1-0OrKwtsaenlSvYFQ=/0x142:1087x711/fit-in/1200x630/cdn.vox-cdn.com/uploads/chorus_asset/file/13201439/Screen_Shot_2018_10_02_at_5.17.48_PM.png', 'source': {'name': 'The Verge', 'id': 'the-verge'}, 'author': 'Nick Statt', 'url': 'https://www.theverge.com/2018/10/3/17930128/microsoft-surface-pro-6-no-usb-c-port-headphones-charging', 'publishedAt': '2018-10-03T11:00:02Z', 'content': 'One of the more perplexing announcements to come out of Microsoft’s Surface hardware event in New York City yesterday was the port choice across its refreshed Surface laptop line and its new, noise-cancelling and Cortana-equipped Surface Headphones. On the wi… [+4999 chars]', 'title': 'Microsoft is dragging its feet on helping USB-C go mainstream', 'description': 'On the wireless Surface Headphones, which are a forward-looking pair of high-end cans designed to compete with Bose and Sony, you have a USB-C port for charging. Yet on the Surface Laptop 2 and Surface Pro 6, you’re still stuck Microsoft’s proprietary Connect…'}, {'urlToImage': 'https://i.kinja-img.com/gawker-media/image/upload/s--q6WfFHuN--/c_fill,fl_progressive,g_center,h_900,q_80,w_1600/agmousqpl2tgftl1ne1a.jpg', 'source': {'name': 'Gizmodo.com', 'id': None}, 'author': 'Adam Clark Estes', 'url': 'https://gizmodo.com/the-iphone-xs-is-forever-1829305262', 'publishedAt': '2018-09-28T17:42:00Z', 'content': 'Im sick of buying iPhones. For the past decade, Ive been buying them and loving them and breaking them and losing them and replacing them and, when September comes along, upgrading them. Last year, it cost me over $1,200 to get an iPhone X, and against my bet… [+13769 chars]', 'title': 'The iPhone XS Is Forever', 'description': 'I’m sick of buying iPhones. For the past decade, I’ve been buying them and loving them and breaking them and losing them and replacing them and, when September comes along, upgrading them. Last year, it cost me over $1,200 to get an iPhone X, and against my b…'}, {'urlToImage': 'https://i.kinja-img.com/gawker-media/image/upload/s--xw-aMG3c--/c_fill,fl_progressive,g_center,h_900,q_80,w_1600/u2xgnvxnlyrscgdw9oil.jpg', 'source': {'name': 'Gizmodo.com', 'id': None}, 'author': 'Adam Clark Estes', 'url': 'https://gizmodo.com/major-complaints-about-the-iphone-xs-are-stacking-up-1829447724', 'publishedAt': '2018-10-02T15:10:00Z', 'content': 'It wouldnt be an iPhone launch without a small army of hand-wringing Apple fans complaining about their expensive new phones on the internet. This year is no exception, and forums are filling up with reports of issues with the iPhone XS and iPhone XS Max. Non… [+6732 chars]', 'title': 'Major Complaints About the iPhone XS Are Stacking Up', 'description': 'It wouldn’t be an iPhone launch without a small army of hand-wringing Apple fans complaining about their expensive new phones on the internet. This year is no exception, and forums are filling up with reports of issues with the iPhone XS and iPhone XS Max. No…'}, {'urlToImage': 'https://i.kinja-img.com/gawker-media/image/upload/s--2PGB2u3a--/c_fill,fl_progressive,g_center,h_900,q_80,w_1600/ompeqdk0omimxiicchrr.jpg', 'source': {'name': 'Gizmodo.com', 'id': None}, 'author': 'Harrison Weber', 'url': 'https://gizmodo.com/iphone-xs-chargegate-fix-is-apparently-on-the-way-1829470523', 'publishedAt': '2018-10-02T18:44:00Z', 'content': 'One of the biggest complaints about Apples fancy new iPhone XS appears to now be solved thanks to the latest iOS 12 beta update. When the iPhone XS and iPhone XS Max started arriving in peoples hands late last month, some users were troubled to discover that … [+529 chars]', 'title': 'iPhone XS Chargegate Fix Is Apparently on the Way', 'description': 'One of the biggest complaints about Apple’s fancy new iPhone XS appears to now be solved thanks to the latest iOS 12 beta update. Read more...'}, {'urlToImage': 'https://i.kinja-img.com/gawker-media/image/upload/s--fGd69tF9--/c_fill,fl_progressive,g_center,h_900,q_80,w_1600/rpdlmhikworgrw608a3j.jpg', 'source': {'name': 'Gizmodo.com', 'id': None}, 'author': 'Sam Rutherford', 'url': 'https://gizmodo.com/check-out-the-iphone-xs-weirdo-battery-1829226450', 'publishedAt': '2018-09-21T16:45:00Z', 'content': 'Apple’s hyped up new iPhones hold a lot of allure. Clad in a silver, space gray, or a rich gold finish and featuring the new A12 Bionic chip inside, the recently debuted iPhone XS represents the best tech Apple can jam in a phone. So naturally, one of the fir… [+2333 chars]', 'title': \"Check Out the iPhone XS' Weirdo Battery\", 'description': 'Apple’s hyped up new iPhones hold a lot of allure. Clad in a silver, space gray, or a rich gold finish and featuring the new A12 Bionic chip inside, the recently debuted iPhone XS represents the best tech Apple can jam in a phone. So naturally, one of the fir…'}, {'urlToImage': 'https://i.kinja-img.com/gawker-media/image/upload/s--QVkuiD3a--/c_fill,fl_progressive,g_center,h_900,q_80,w_1600/uujdfwlfwqzaehwrebgo.jpg', 'source': {'name': 'Gizmodo.com', 'id': None}, 'author': 'Sam Rutherford', 'url': 'https://gizmodo.com/apples-super-big-and-pricey-iphone-is-significantly-o-1829279043', 'publishedAt': '2018-09-24T21:11:00Z', 'content': 'When Apple announced the iPhone XS Max, there was a lot of simulated pearl-clutching from tech sites ( including us ), as people feigned shock and disbelief that Apple would make a handset that big, despite the XS Maxs screen being only marginally larger than… [+2401 chars]', 'title': \"Apple's Super Big (and Pricey) iPhone Is 'Significantly' Outselling the XS, Because of Course It Is\", 'description': 'When Apple announced the iPhone XS Max, there was a lot of simulated pearl-clutching from tech sites ( including us ), as people feigned shock and disbelief that Apple would make a handset that big, despite the XS Max’s screen being only marginally larger tha…'}, {'urlToImage': 'https://i.kinja-img.com/gawker-media/image/upload/s--fLekLgwM--/c_fill,fl_progressive,g_center,h_900,q_80,w_1600/tk9bvbdkmmeqgpddotmm.jpg', 'source': {'name': 'Gizmodo.com', 'id': None}, 'author': 'Sam Rutherford', 'url': 'https://gizmodo.com/iphone-users-are-saying-colors-look-off-after-upgrading-1829267106', 'publishedAt': '2018-09-24T14:48:00Z', 'content': 'After a series of bugs plagued iOS 11, Apple reportedly decided to slow down on adding new features to iOS 12 in order to focus on improving performance and stability. In general, that strategy seems to have worked, with multiple sites reporting that iOS 12 r… [+1597 chars]', 'title': \"Some iPhone Users Are Saying Colors Look 'Off' After Upgrading to iOS 12\", 'description': 'After a series of bugs plagued iOS 11, Apple reportedly decided to slow down on adding new features to iOS 12 in order to focus on improving performance and stability. In general, that strategy seems to have worked, with multiple sites reporting that iOS 12 r…'}, {'urlToImage': 'https://i.kinja-img.com/gawker-media/image/upload/s--q6WfFHuN--/c_fill,fl_progressive,g_center,h_900,q_80,w_1600/agmousqpl2tgftl1ne1a.jpg', 'source': {'name': 'Gizmodo.com', 'id': None}, 'author': 'Tom McKay', 'url': 'https://gizmodo.com/memory-week-amazon-and-seafloor-sludge-best-gizmodo-1829427117', 'publishedAt': '2018-09-30T23:40:00Z', 'content': 'Its September 30th, 2018, and the theme of the last week was memory. Not just at Gizmodo, where we wrapped up Memory Week, our series on nostalgia, neuroscience, and all that data tightly locked up in our brains. No, you should additionally be trying to remem… [+11273 chars]', 'title': 'Memory Week, Amazon, and Seafloor Sludge: Best Gizmodo Stories of the Week', 'description': 'It’s September 30th, 2018, and the theme of the last week was memory. Not just at Gizmodo, where we wrapped up Memory Week, our series on nostalgia, neuroscience, and all that data tightly locked up in our brains. No, you should additionally be trying to reme…'}, {'urlToImage': 'https://i.kinja-img.com/gawker-media/image/upload/s--EQf2P7gF--/c_fill,fl_progressive,g_center,h_900,q_80,w_1600/gp6izfyqcpn1erjpo9du.jpg', 'source': {'name': 'Gizmodo.com', 'id': None}, 'author': 'Andrew Liszewski', 'url': 'https://gizmodo.com/what-to-expect-from-googles-pixel-3-hardware-event-1829461865', 'publishedAt': '2018-10-03T14:30:00Z', 'content': 'In less than a weeks time Google will be holding court in New York to reveal some less-than-mysterious new hardware offerings. Those Pixel 3 and Pixel 3 XL smartphones might have been thoroughly leaked ahead of next weeks gathering, but what other surprises h… [+6697 chars]', 'title': \"What to Expect From Google's Pixel 3 Hardware Event\", 'description': 'In less than a week’s time Google will be holding court in New York to reveal some less-than-mysterious new hardware offerings. Those Pixel 3 and Pixel 3 XL smartphones might have been thoroughly leaked ahead of next week’s gathering, but what other surprises…'}, {'urlToImage': 'https://i.amz.mshcdn.com/sToBfBi_k6__3kfqCEFKkgZTxPE=/1200x630/2018%2F10%2F01%2F95%2F15f461d748024e64b9e260ab7ea1fd9b.60e64.jpg', 'source': {'name': 'Mashable', 'id': 'mashable'}, 'author': 'Mashable Team', 'url': 'https://mashable.com/reels/gold-diamond-iphone-xs/', 'publishedAt': '2018-10-01T17:26:01Z', 'content': None, 'title': 'The $3 Million iPhone', 'description': 'Read more... More about Mashable Reels, Iphone Xs, Iphone Xs Max, Tech, and Consumer Tech'}], 'status': 'ok', 'totalResults': 10975}\n"
     ]
    }
   ],
   "source": [
    "url = ('https://newsapi.org/v2/everything?'\n",
    "       'q=iphone xs&'\n",
    "       'from=2018-09-21&'\n",
    "       'sortBy=popularity&'\n",
    "       'apiKey=e2a7e3d9e87d4d31826c99a9a5e67f34')\n",
    "\n",
    "response = requests.get(url)\n",
    "\n",
    "print(response.json())"
   ]
  },
  {
   "cell_type": "code",
   "execution_count": 35,
   "metadata": {},
   "outputs": [],
   "source": [
    "resp_obj = response.json()"
   ]
  },
  {
   "cell_type": "code",
   "execution_count": 36,
   "metadata": {},
   "outputs": [
    {
     "data": {
      "text/plain": [
       "dict_keys(['articles', 'status', 'totalResults'])"
      ]
     },
     "execution_count": 36,
     "metadata": {},
     "output_type": "execute_result"
    }
   ],
   "source": [
    "resp_obj.keys()"
   ]
  },
  {
   "cell_type": "code",
   "execution_count": 37,
   "metadata": {},
   "outputs": [
    {
     "data": {
      "text/plain": [
       "10975"
      ]
     },
     "execution_count": 37,
     "metadata": {},
     "output_type": "execute_result"
    }
   ],
   "source": [
    "resp_obj['totalResults']"
   ]
  },
  {
   "cell_type": "code",
   "execution_count": 38,
   "metadata": {},
   "outputs": [
    {
     "data": {
      "text/plain": [
       "dict"
      ]
     },
     "execution_count": 38,
     "metadata": {},
     "output_type": "execute_result"
    }
   ],
   "source": [
    "type(resp_obj['articles'][1])"
   ]
  },
  {
   "cell_type": "code",
   "execution_count": 39,
   "metadata": {},
   "outputs": [
    {
     "data": {
      "text/plain": [
       "dict_keys(['urlToImage', 'source', 'author', 'url', 'publishedAt', 'content', 'title', 'description'])"
      ]
     },
     "execution_count": 39,
     "metadata": {},
     "output_type": "execute_result"
    }
   ],
   "source": [
    "resp_obj['articles'][1].keys()"
   ]
  },
  {
   "cell_type": "code",
   "execution_count": 40,
   "metadata": {},
   "outputs": [
    {
     "data": {
      "text/plain": [
       "'The iPhone XS and XS Max woes continue: In addition to cellular and wifi connectivity issues, some users are reporting charging problems with their devicesmainly when their iPhones screens are turned off. When they go to plug their devices in to give them som… [+884 chars]'"
      ]
     },
     "execution_count": 40,
     "metadata": {},
     "output_type": "execute_result"
    }
   ],
   "source": [
    "resp_obj['articles'][1]['content']"
   ]
  },
  {
   "cell_type": "code",
   "execution_count": 41,
   "metadata": {},
   "outputs": [
    {
     "name": "stdout",
     "output_type": "stream",
     "text": [
      "How to Edit Your Photos' Depth of Field Without an iPhone XS\n",
      "iOS: If all your friends own a new iPhone XS or iPhone XS Max, which contain that much-improved neural engine that Apple likes to talk about, youre probably jealous that you cant edit the bokeh on your photos after the fact on your older iPhone. You probably … [+1502 chars]\n",
      "How to Fix Your iPhone XS Charging Problems\n",
      "The iPhone XS and XS Max woes continue: In addition to cellular and wifi connectivity issues, some users are reporting charging problems with their devicesmainly when their iPhones screens are turned off. When they go to plug their devices in to give them som… [+884 chars]\n",
      "How to Fix Connectivity Issues on Your iPhone XS\n",
      "Few things are more frustrating than slow data speeds, especially on brand-new devices that are supposed to outperform earlier versions by a lot. Unfortunately, since the iPhone XS and XS Max hit stores last Friday, users have reported wifi and cellular conne… [+1102 chars]\n",
      "How to Find HDR Content on YouTube\n",
      "The iPhone XS and XS Max are the latest devices to support High Dynamic Range (HDR) videos on Youtube, which is great news for those who own either. If youre unfamiliar with HDR, its a video format with an expanded contrast ratio that makes colors more accura… [+6173 chars]\n",
      "The Tech Decisions That People Love to Fight Over\n",
      "The identity politics of tech are real. We become obsessed with the devices that power our lives, and they can drive us to heated argumentshowever preposterouswith anyone who loves a competing product, platform, or service. Its frighteningly easy to filter yo… [+11527 chars]\n",
      "Nintendo’s gacha RPG ‘Dragalia Lost’ arrives on mobiles\n",
      "As a little thank-you gift for reaching 1 million pre-registered users, Cygames is giving players 2,500 wyrmite (one of two in-game currencies) when they log in. Meanwhile, iPhone Xs and iPhone Xs Max owners are being warned of an issue on some devices that s… [+342 chars]\n",
      "20 Best Weekend Tech Deals: Apple, Amazon, Samsung, Sony\n",
      "This week, Sony revealed a new miniature PlayStation, Nintendo launched its online service, a bundle of Apple products started shipping, and Amazon put its Kindles and other top devices on sale as it showed off a heap of new products. With the help of TechBar… [+2636 chars]\n",
      "Some iPhone XS and XS Max devices are experiencing charging issues\n",
      "Some new iPhone XS and XS Max buyers have reported poor cellular reception with Apple’s latest phones, and now there’s another issue that might result in you waking up with an uncharged device in the morning. Dozens of users have reported charging issues with… [+1258 chars]\n",
      "Amazon’s new device preorders dominate this week’s best deals\n",
      "Last week was Apple’s time to shine with the introduction of the iPhone XS and XS Max and Apple Watch 4, but the tail end of this week was all about Amazon. It announced more than 10 products at its hardware event in Seattle, consisting of a few redesigned po… [+2012 chars]\n",
      "eBay is now selling wireless plans with secondhand phones\n",
      "With eBay being one of the biggest marketplaces to buy and sell used phones, it makes sense that the site is now offering prepaid wireless plans as an add-on option in the item listing. A checkbox underneath the “Add to cart” button offers a 30-day unlimited … [+927 chars]\n"
     ]
    }
   ],
   "source": [
    "for i in range(0,10):\n",
    "    print(resp_obj['articles'][i]['title'])\n",
    "    print(resp_obj['articles'][i]['content'])"
   ]
  }
 ],
 "metadata": {
  "kernelspec": {
   "display_name": "Python 3",
   "language": "python",
   "name": "python3"
  },
  "language_info": {
   "codemirror_mode": {
    "name": "ipython",
    "version": 3
   },
   "file_extension": ".py",
   "mimetype": "text/x-python",
   "name": "python",
   "nbconvert_exporter": "python",
   "pygments_lexer": "ipython3",
   "version": "3.5.5"
  }
 },
 "nbformat": 4,
 "nbformat_minor": 2
}
